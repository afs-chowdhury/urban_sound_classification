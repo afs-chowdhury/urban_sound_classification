{
  "nbformat": 4,
  "nbformat_minor": 5,
  "metadata": {
    "kernelspec": {
      "display_name": "Python 3",
      "language": "python",
      "name": "python3"
    },
    "language_info": {
      "codemirror_mode": {
        "name": "ipython",
        "version": 3
      },
      "file_extension": ".py",
      "mimetype": "text/x-python",
      "name": "python",
      "nbconvert_exporter": "python",
      "pygments_lexer": "ipython3",
      "version": "3.8.10"
    },
    "colab": {
      "name": "Usd_classification_CNN_MelSpectrogram_colab.ipynb",
      "provenance": [],
      "collapsed_sections": []
    },
    "accelerator": "GPU",
    "widgets": {
      "application/vnd.jupyter.widget-state+json": {
        "b6ac50032d824a5bb0dc4fb7b718898c": {
          "model_module": "@jupyter-widgets/controls",
          "model_name": "HBoxModel",
          "state": {
            "_view_name": "HBoxView",
            "_dom_classes": [],
            "_model_name": "HBoxModel",
            "_view_module": "@jupyter-widgets/controls",
            "_model_module_version": "1.5.0",
            "_view_count": null,
            "_view_module_version": "1.5.0",
            "box_style": "",
            "layout": "IPY_MODEL_3f8cd6ab80f5479597417003f699b57b",
            "_model_module": "@jupyter-widgets/controls",
            "children": [
              "IPY_MODEL_3e7674635c5746c38385426719afa1e5",
              "IPY_MODEL_7a4136a22b404dcaa37efe919ceeb542"
            ]
          }
        },
        "3f8cd6ab80f5479597417003f699b57b": {
          "model_module": "@jupyter-widgets/base",
          "model_name": "LayoutModel",
          "state": {
            "_view_name": "LayoutView",
            "grid_template_rows": null,
            "right": null,
            "justify_content": null,
            "_view_module": "@jupyter-widgets/base",
            "overflow": null,
            "_model_module_version": "1.2.0",
            "_view_count": null,
            "flex_flow": null,
            "width": null,
            "min_width": null,
            "border": null,
            "align_items": null,
            "bottom": null,
            "_model_module": "@jupyter-widgets/base",
            "top": null,
            "grid_column": null,
            "overflow_y": null,
            "overflow_x": null,
            "grid_auto_flow": null,
            "grid_area": null,
            "grid_template_columns": null,
            "flex": null,
            "_model_name": "LayoutModel",
            "justify_items": null,
            "grid_row": null,
            "max_height": null,
            "align_content": null,
            "visibility": null,
            "align_self": null,
            "height": null,
            "min_height": null,
            "padding": null,
            "grid_auto_rows": null,
            "grid_gap": null,
            "max_width": null,
            "order": null,
            "_view_module_version": "1.2.0",
            "grid_template_areas": null,
            "object_position": null,
            "object_fit": null,
            "grid_auto_columns": null,
            "margin": null,
            "display": null,
            "left": null
          }
        },
        "3e7674635c5746c38385426719afa1e5": {
          "model_module": "@jupyter-widgets/controls",
          "model_name": "FloatProgressModel",
          "state": {
            "_view_name": "ProgressView",
            "style": "IPY_MODEL_b38cb0761d5f47218f75860b6b7393a6",
            "_dom_classes": [],
            "description": "  0%",
            "_model_name": "FloatProgressModel",
            "bar_style": "danger",
            "max": 8639,
            "_view_module": "@jupyter-widgets/controls",
            "_model_module_version": "1.5.0",
            "value": 3,
            "_view_count": null,
            "_view_module_version": "1.5.0",
            "orientation": "horizontal",
            "min": 0,
            "description_tooltip": null,
            "_model_module": "@jupyter-widgets/controls",
            "layout": "IPY_MODEL_2697a381da1a4a748c429e695d6ce72a"
          }
        },
        "7a4136a22b404dcaa37efe919ceeb542": {
          "model_module": "@jupyter-widgets/controls",
          "model_name": "HTMLModel",
          "state": {
            "_view_name": "HTMLView",
            "style": "IPY_MODEL_904149f8b15b45c0b9a1f63fda8a7391",
            "_dom_classes": [],
            "description": "",
            "_model_name": "HTMLModel",
            "placeholder": "​",
            "_view_module": "@jupyter-widgets/controls",
            "_model_module_version": "1.5.0",
            "value": " 3/8639 [08:52&lt;398:40:24, 166.19s/it]",
            "_view_count": null,
            "_view_module_version": "1.5.0",
            "description_tooltip": null,
            "_model_module": "@jupyter-widgets/controls",
            "layout": "IPY_MODEL_8ec79f342852484ba4a058998e5ad90e"
          }
        },
        "b38cb0761d5f47218f75860b6b7393a6": {
          "model_module": "@jupyter-widgets/controls",
          "model_name": "ProgressStyleModel",
          "state": {
            "_view_name": "StyleView",
            "_model_name": "ProgressStyleModel",
            "description_width": "initial",
            "_view_module": "@jupyter-widgets/base",
            "_model_module_version": "1.5.0",
            "_view_count": null,
            "_view_module_version": "1.2.0",
            "bar_color": null,
            "_model_module": "@jupyter-widgets/controls"
          }
        },
        "2697a381da1a4a748c429e695d6ce72a": {
          "model_module": "@jupyter-widgets/base",
          "model_name": "LayoutModel",
          "state": {
            "_view_name": "LayoutView",
            "grid_template_rows": null,
            "right": null,
            "justify_content": null,
            "_view_module": "@jupyter-widgets/base",
            "overflow": null,
            "_model_module_version": "1.2.0",
            "_view_count": null,
            "flex_flow": null,
            "width": null,
            "min_width": null,
            "border": null,
            "align_items": null,
            "bottom": null,
            "_model_module": "@jupyter-widgets/base",
            "top": null,
            "grid_column": null,
            "overflow_y": null,
            "overflow_x": null,
            "grid_auto_flow": null,
            "grid_area": null,
            "grid_template_columns": null,
            "flex": null,
            "_model_name": "LayoutModel",
            "justify_items": null,
            "grid_row": null,
            "max_height": null,
            "align_content": null,
            "visibility": null,
            "align_self": null,
            "height": null,
            "min_height": null,
            "padding": null,
            "grid_auto_rows": null,
            "grid_gap": null,
            "max_width": null,
            "order": null,
            "_view_module_version": "1.2.0",
            "grid_template_areas": null,
            "object_position": null,
            "object_fit": null,
            "grid_auto_columns": null,
            "margin": null,
            "display": null,
            "left": null
          }
        },
        "904149f8b15b45c0b9a1f63fda8a7391": {
          "model_module": "@jupyter-widgets/controls",
          "model_name": "DescriptionStyleModel",
          "state": {
            "_view_name": "StyleView",
            "_model_name": "DescriptionStyleModel",
            "description_width": "",
            "_view_module": "@jupyter-widgets/base",
            "_model_module_version": "1.5.0",
            "_view_count": null,
            "_view_module_version": "1.2.0",
            "_model_module": "@jupyter-widgets/controls"
          }
        },
        "8ec79f342852484ba4a058998e5ad90e": {
          "model_module": "@jupyter-widgets/base",
          "model_name": "LayoutModel",
          "state": {
            "_view_name": "LayoutView",
            "grid_template_rows": null,
            "right": null,
            "justify_content": null,
            "_view_module": "@jupyter-widgets/base",
            "overflow": null,
            "_model_module_version": "1.2.0",
            "_view_count": null,
            "flex_flow": null,
            "width": null,
            "min_width": null,
            "border": null,
            "align_items": null,
            "bottom": null,
            "_model_module": "@jupyter-widgets/base",
            "top": null,
            "grid_column": null,
            "overflow_y": null,
            "overflow_x": null,
            "grid_auto_flow": null,
            "grid_area": null,
            "grid_template_columns": null,
            "flex": null,
            "_model_name": "LayoutModel",
            "justify_items": null,
            "grid_row": null,
            "max_height": null,
            "align_content": null,
            "visibility": null,
            "align_self": null,
            "height": null,
            "min_height": null,
            "padding": null,
            "grid_auto_rows": null,
            "grid_gap": null,
            "max_width": null,
            "order": null,
            "_view_module_version": "1.2.0",
            "grid_template_areas": null,
            "object_position": null,
            "object_fit": null,
            "grid_auto_columns": null,
            "margin": null,
            "display": null,
            "left": null
          }
        }
      }
    }
  },
  "cells": [
    {
      "cell_type": "code",
      "metadata": {
        "id": "Wqepp75kiyjN"
      },
      "source": [
        "!pip install opendatasets --upgrade --quiet"
      ],
      "id": "Wqepp75kiyjN",
      "execution_count": 1,
      "outputs": []
    },
    {
      "cell_type": "code",
      "metadata": {
        "colab": {
          "base_uri": "https://localhost:8080/"
        },
        "id": "Xc1g83_jmcua",
        "outputId": "b874c835-c566-4e4f-beca-e764a0438cfd"
      },
      "source": [
        "!pip install torchaudio"
      ],
      "id": "Xc1g83_jmcua",
      "execution_count": 2,
      "outputs": [
        {
          "output_type": "stream",
          "text": [
            "Collecting torchaudio\n",
            "\u001b[?25l  Downloading https://files.pythonhosted.org/packages/a8/20/eab40caad8f4b97f5e91a5de8ba5ec29115e08fa4c9a808725490b7b4844/torchaudio-0.9.0-cp37-cp37m-manylinux1_x86_64.whl (1.9MB)\n",
            "\u001b[K     |████████████████████████████████| 1.9MB 8.3MB/s \n",
            "\u001b[?25hRequirement already satisfied: torch==1.9.0 in /usr/local/lib/python3.7/dist-packages (from torchaudio) (1.9.0+cu102)\n",
            "Requirement already satisfied: typing-extensions in /usr/local/lib/python3.7/dist-packages (from torch==1.9.0->torchaudio) (3.7.4.3)\n",
            "Installing collected packages: torchaudio\n",
            "Successfully installed torchaudio-0.9.0\n"
          ],
          "name": "stdout"
        }
      ]
    },
    {
      "cell_type": "code",
      "metadata": {
        "colab": {
          "base_uri": "https://localhost:8080/"
        },
        "id": "9duFhPuMi_aP",
        "outputId": "f47adc28-e995-4f56-da17-c95c7ba3790f"
      },
      "source": [
        "import opendatasets as od\n",
        "dataset_url = \"https://www.kaggle.com/chrisfilo/urbansound8k\"\n",
        "od.download(dataset_url)"
      ],
      "id": "9duFhPuMi_aP",
      "execution_count": 3,
      "outputs": [
        {
          "output_type": "stream",
          "text": [
            "  0%|          | 5.00M/5.61G [00:00<02:11, 45.8MB/s]"
          ],
          "name": "stderr"
        },
        {
          "output_type": "stream",
          "text": [
            "Downloading urbansound8k.zip to ./urbansound8k\n"
          ],
          "name": "stdout"
        },
        {
          "output_type": "stream",
          "text": [
            "100%|██████████| 5.61G/5.61G [02:00<00:00, 49.9MB/s]\n"
          ],
          "name": "stderr"
        },
        {
          "output_type": "stream",
          "text": [
            "\n"
          ],
          "name": "stdout"
        }
      ]
    },
    {
      "cell_type": "code",
      "metadata": {
        "id": "d66b6ad5-acc2-4eee-9c5e-6269bbd8c01c"
      },
      "source": [
        "from urbansounddataset_colab import UrbanSoundDataset\n",
        "\n",
        "import torch\n",
        "import pickle\n",
        "import torchaudio\n",
        "import matplotlib.pyplot as plt\n",
        "import torch.nn as nn\n",
        "import torch.nn.functional as F\n",
        "import os\n",
        "from torchsummary import summary\n",
        "from torchvision.utils import make_grid\n",
        "from torch.utils.data import random_split\n",
        "from tqdm import tqdm\n",
        "from torchvision.transforms import ToTensor\n",
        "from torch.utils.data.dataloader import DataLoader\n",
        "import time\n",
        "from tqdm.notebook import tqdm\n",
        "%matplotlib inline"
      ],
      "id": "d66b6ad5-acc2-4eee-9c5e-6269bbd8c01c",
      "execution_count": 4,
      "outputs": []
    },
    {
      "cell_type": "code",
      "metadata": {
        "colab": {
          "base_uri": "https://localhost:8080/",
          "height": 204
        },
        "id": "tB6mi-5HlRtI",
        "outputId": "f3b7e3cf-e0ee-472f-88b6-96fac9fd172a"
      },
      "source": [
        "import pandas as pd\n",
        "df = pd.read_csv(\"urbansound8k/UrbanSound8K.csv\")\n",
        "df.head()"
      ],
      "id": "tB6mi-5HlRtI",
      "execution_count": 5,
      "outputs": [
        {
          "output_type": "execute_result",
          "data": {
            "text/html": [
              "<div>\n",
              "<style scoped>\n",
              "    .dataframe tbody tr th:only-of-type {\n",
              "        vertical-align: middle;\n",
              "    }\n",
              "\n",
              "    .dataframe tbody tr th {\n",
              "        vertical-align: top;\n",
              "    }\n",
              "\n",
              "    .dataframe thead th {\n",
              "        text-align: right;\n",
              "    }\n",
              "</style>\n",
              "<table border=\"1\" class=\"dataframe\">\n",
              "  <thead>\n",
              "    <tr style=\"text-align: right;\">\n",
              "      <th></th>\n",
              "      <th>slice_file_name</th>\n",
              "      <th>fsID</th>\n",
              "      <th>start</th>\n",
              "      <th>end</th>\n",
              "      <th>salience</th>\n",
              "      <th>fold</th>\n",
              "      <th>classID</th>\n",
              "      <th>class</th>\n",
              "    </tr>\n",
              "  </thead>\n",
              "  <tbody>\n",
              "    <tr>\n",
              "      <th>0</th>\n",
              "      <td>100032-3-0-0.wav</td>\n",
              "      <td>100032</td>\n",
              "      <td>0.0</td>\n",
              "      <td>0.317551</td>\n",
              "      <td>1</td>\n",
              "      <td>5</td>\n",
              "      <td>3</td>\n",
              "      <td>dog_bark</td>\n",
              "    </tr>\n",
              "    <tr>\n",
              "      <th>1</th>\n",
              "      <td>100263-2-0-117.wav</td>\n",
              "      <td>100263</td>\n",
              "      <td>58.5</td>\n",
              "      <td>62.500000</td>\n",
              "      <td>1</td>\n",
              "      <td>5</td>\n",
              "      <td>2</td>\n",
              "      <td>children_playing</td>\n",
              "    </tr>\n",
              "    <tr>\n",
              "      <th>2</th>\n",
              "      <td>100263-2-0-121.wav</td>\n",
              "      <td>100263</td>\n",
              "      <td>60.5</td>\n",
              "      <td>64.500000</td>\n",
              "      <td>1</td>\n",
              "      <td>5</td>\n",
              "      <td>2</td>\n",
              "      <td>children_playing</td>\n",
              "    </tr>\n",
              "    <tr>\n",
              "      <th>3</th>\n",
              "      <td>100263-2-0-126.wav</td>\n",
              "      <td>100263</td>\n",
              "      <td>63.0</td>\n",
              "      <td>67.000000</td>\n",
              "      <td>1</td>\n",
              "      <td>5</td>\n",
              "      <td>2</td>\n",
              "      <td>children_playing</td>\n",
              "    </tr>\n",
              "    <tr>\n",
              "      <th>4</th>\n",
              "      <td>100263-2-0-137.wav</td>\n",
              "      <td>100263</td>\n",
              "      <td>68.5</td>\n",
              "      <td>72.500000</td>\n",
              "      <td>1</td>\n",
              "      <td>5</td>\n",
              "      <td>2</td>\n",
              "      <td>children_playing</td>\n",
              "    </tr>\n",
              "  </tbody>\n",
              "</table>\n",
              "</div>"
            ],
            "text/plain": [
              "      slice_file_name    fsID  start  ...  fold  classID             class\n",
              "0    100032-3-0-0.wav  100032    0.0  ...     5        3          dog_bark\n",
              "1  100263-2-0-117.wav  100263   58.5  ...     5        2  children_playing\n",
              "2  100263-2-0-121.wav  100263   60.5  ...     5        2  children_playing\n",
              "3  100263-2-0-126.wav  100263   63.0  ...     5        2  children_playing\n",
              "4  100263-2-0-137.wav  100263   68.5  ...     5        2  children_playing\n",
              "\n",
              "[5 rows x 8 columns]"
            ]
          },
          "metadata": {
            "tags": []
          },
          "execution_count": 5
        }
      ]
    },
    {
      "cell_type": "code",
      "metadata": {
        "id": "0f6b0e88-dadc-44ae-8166-d62bc6710a60"
      },
      "source": [
        "ANNOTATIONS_FILE = \"urbansound8k/UrbanSound8K.csv\"\n",
        "AUDIO_DIR = \"urbansound8k\"\n",
        "\n",
        "\n",
        "#ANNOTATIONS_FILE = \"E:\\\\codes\\\\Machine_learning\\\\deep_learning\\\\audio\\\\urban-sound-git\\\\urban-audio-classifier\\\\UrbanSound8K\\\\metadata\\\\UrbanSound8K.csv\"\n",
        "#AUDIO_DIR = \"E:\\\\codes\\\\Machine_learning\\\\deep_learning\\\\audio\\\\urban-sound-git\\\\urban-audio-classifier\\\\UrbanSound8K\\\\audio\"\n",
        "SAMPLE_RATE = 22050\n",
        "NUM_SAMPLES = 22050\n",
        "\n",
        "\n",
        "mel_spectrogram = torchaudio.transforms.MelSpectrogram(\n",
        "            sample_rate=SAMPLE_RATE,\n",
        "            n_fft=1024,\n",
        "            hop_length=512,\n",
        "            n_mels=64\n",
        "        )\n"
      ],
      "id": "0f6b0e88-dadc-44ae-8166-d62bc6710a60",
      "execution_count": 6,
      "outputs": []
    },
    {
      "cell_type": "code",
      "metadata": {
        "id": "835cee34-afed-4bbc-96c0-bcbe923e58b8"
      },
      "source": [
        "usd = UrbanSoundDataset(ANNOTATIONS_FILE,\n",
        "                             AUDIO_DIR,\n",
        "                             mel_spectrogram,\n",
        "                             SAMPLE_RATE,\n",
        "                             NUM_SAMPLES)"
      ],
      "id": "835cee34-afed-4bbc-96c0-bcbe923e58b8",
      "execution_count": 7,
      "outputs": []
    },
    {
      "cell_type": "code",
      "metadata": {
        "colab": {
          "base_uri": "https://localhost:8080/"
        },
        "id": "b8d1ef5f-306f-4d29-a326-8c386869bb74",
        "outputId": "14f4b694-cb63-4bc6-e781-3a50d13c2e5b"
      },
      "source": [
        "signal, label = usd[0]\n",
        "signal.shape , label"
      ],
      "id": "b8d1ef5f-306f-4d29-a326-8c386869bb74",
      "execution_count": 8,
      "outputs": [
        {
          "output_type": "execute_result",
          "data": {
            "text/plain": [
              "(torch.Size([1, 64, 44]), 3)"
            ]
          },
          "metadata": {
            "tags": []
          },
          "execution_count": 8
        }
      ]
    },
    {
      "cell_type": "code",
      "metadata": {
        "colab": {
          "base_uri": "https://localhost:8080/"
        },
        "id": "6cc7c0b4-fd98-486a-8b46-786a7d898440",
        "outputId": "158cbc5d-4bdb-4cc4-e56e-3ddfc163e76e"
      },
      "source": [
        "total_count = len(usd)\n",
        "\n",
        "print(f\"Total data : {total_count}\")\n",
        "\n",
        "train_count = int(0.7*total_count)\n",
        "valid_count = int(0.2*total_count)\n",
        "test_count = total_count-train_count-valid_count\n",
        "\n",
        "train_dataset , valid_dataset , test_dataset = random_split(usd,(train_count,valid_count,test_count))\n",
        "print(\"Train data : \",train_count)\n",
        "print(\"Valid data : \",valid_count)\n",
        "print(\"Test data : \", test_count)"
      ],
      "id": "6cc7c0b4-fd98-486a-8b46-786a7d898440",
      "execution_count": 9,
      "outputs": [
        {
          "output_type": "stream",
          "text": [
            "Total data : 8732\n",
            "Train data :  6112\n",
            "Valid data :  1746\n",
            "Test data :  874\n"
          ],
          "name": "stdout"
        }
      ]
    },
    {
      "cell_type": "code",
      "metadata": {
        "id": "911a0e73-b472-4dd1-ba3c-cb65dde09f5d"
      },
      "source": [
        "\n",
        "def get_default_device():\n",
        "    \n",
        "    if torch.cuda.is_available():\n",
        "        return torch.device(\"cuda\")\n",
        "    else:\n",
        "        return torch.device(\"cpu\")\n",
        "\n",
        "def to_device(data, device):\n",
        "    \n",
        "    if isinstance(data, (list, tuple)):\n",
        "        return [to_device(x , device ) for x in data]\n",
        "    return data.to(device , non_blocking = True)\n",
        "\n",
        "\n",
        "class DeviceDataLoader():\n",
        "    \n",
        "    def __init__(self, dl, device):\n",
        "        \n",
        "        self.dl = dl \n",
        "        self.device = device\n",
        "        \n",
        "    def __iter__(self):\n",
        "        \n",
        "        for b in self.dl: \n",
        "            yield to_device(b, self.device)\n",
        "    \n",
        "    def __len__(self):\n",
        "        return len(self.dl)"
      ],
      "id": "911a0e73-b472-4dd1-ba3c-cb65dde09f5d",
      "execution_count": 10,
      "outputs": []
    },
    {
      "cell_type": "code",
      "metadata": {
        "colab": {
          "base_uri": "https://localhost:8080/"
        },
        "id": "a3d5da2c-3ce8-45f5-9c7d-4e9c23448b64",
        "outputId": "3013d441-1904-4384-8501-434a18496c3d"
      },
      "source": [
        "device = get_default_device()\n",
        "device"
      ],
      "id": "a3d5da2c-3ce8-45f5-9c7d-4e9c23448b64",
      "execution_count": 11,
      "outputs": [
        {
          "output_type": "execute_result",
          "data": {
            "text/plain": [
              "device(type='cuda')"
            ]
          },
          "metadata": {
            "tags": []
          },
          "execution_count": 11
        }
      ]
    },
    {
      "cell_type": "code",
      "metadata": {
        "id": "d9197db4-cd89-431d-b8f6-0b1223a37a3b"
      },
      "source": [
        "# creating data loader : \n",
        "BATCH_SIZE = 128\n",
        "\n",
        "train_dl = DeviceDataLoader(DataLoader(train_dataset,batch_size = BATCH_SIZE, shuffle = True,num_workers=2,pin_memory=True ),device)\n",
        "valid_dl = DeviceDataLoader(DataLoader(valid_dataset,batch_size = BATCH_SIZE, shuffle = True ,num_workers=2,pin_memory=True), device)\n",
        "test_dl = DeviceDataLoader(DataLoader(test_dataset,batch_size = BATCH_SIZE, shuffle = False,num_workers=2,pin_memory=True),device)"
      ],
      "id": "d9197db4-cd89-431d-b8f6-0b1223a37a3b",
      "execution_count": 12,
      "outputs": []
    },
    {
      "cell_type": "code",
      "metadata": {
        "colab": {
          "base_uri": "https://localhost:8080/"
        },
        "id": "a3be1e12-acc7-440d-96e9-eb4d7028a604",
        "outputId": "1084a62d-78e1-40da-f033-0fcb9f731b8a"
      },
      "source": [
        "for signal, label in train_dl:\n",
        "    print(signal.shape)\n",
        "    break\n",
        "    "
      ],
      "id": "a3be1e12-acc7-440d-96e9-eb4d7028a604",
      "execution_count": 13,
      "outputs": [
        {
          "output_type": "stream",
          "text": [
            "torch.Size([128, 1, 64, 44])\n"
          ],
          "name": "stdout"
        }
      ]
    },
    {
      "cell_type": "code",
      "metadata": {
        "colab": {
          "base_uri": "https://localhost:8080/"
        },
        "id": "3542f83f-6668-4411-952b-d9905819715e",
        "outputId": "90eafc21-7058-428c-fd9d-c95705fdf98a"
      },
      "source": [
        "for signal, label in valid_dl:\n",
        "    print(signal.shape)\n",
        "    break"
      ],
      "id": "3542f83f-6668-4411-952b-d9905819715e",
      "execution_count": 14,
      "outputs": [
        {
          "output_type": "stream",
          "text": [
            "torch.Size([128, 1, 64, 44])\n"
          ],
          "name": "stdout"
        }
      ]
    },
    {
      "cell_type": "code",
      "metadata": {
        "id": "5d94aa11-c672-4c70-afdd-e8e3d06e2091"
      },
      "source": [
        "class SoundClassificationBase(nn.Module):\n",
        "    \n",
        "    def training_step(self, batch):\n",
        "        signals , labels  = batch\n",
        "        output = self(signals) # generates output\n",
        "        loss = F.cross_entropy(output, labels) # generates loss\n",
        "        return loss\n",
        "    \n",
        "    def validation_step(self, batch):\n",
        "        signals, labels = batch\n",
        "        output = self(signals)  # generates output\n",
        "        loss = F.cross_entropy(output, labels) # generates loss on validation step \n",
        "        acc = accuracy(output, labels) # generates accuracy on validation set \n",
        "        return {\"val_acc\": acc, \"val_loss\": loss}\n",
        "    \n",
        "    def validation_epoch_end(self, output):\n",
        "        batch_loss = [x['val_loss'] for x in output]\n",
        "        epoch_loss = torch.stack(batch_loss).mean() # combine losses\n",
        "        batch_acc = [x['val_acc'] for x in output]\n",
        "        epoch_acc = torch.stack(batch_acc).mean()  # combine accurecies\n",
        "        \n",
        "        return {\"val_acc\": epoch_acc.item(), \"val_loss\": epoch_loss.item()}\n",
        "    \n",
        "    def epoch_end(self, epoch, result):\n",
        "        print(f\"Epoch[{epoch}] , train loss : {result['train_loss']:.3f} ,val loss : {result['val_loss']:.3f} , val accuracy : {result['val_acc']:.3f}\")\n",
        "        \n",
        "        # open_file = open(saved_result, 'wb')\n",
        "        # pickle.dump(result,open_file)\n",
        "        # open_file.close()\n",
        "\n",
        "        \n",
        "def accuracy(output, labels):\n",
        "    _ , preds = torch.max(output, dim = 1)\n",
        "    return torch.tensor(torch.sum(preds == labels).item()/len(preds))"
      ],
      "id": "5d94aa11-c672-4c70-afdd-e8e3d06e2091",
      "execution_count": 15,
      "outputs": []
    },
    {
      "cell_type": "code",
      "metadata": {
        "id": "e6192823-f82c-4b2f-90f6-5d3c406ac4db"
      },
      "source": [
        "class UsdCnnModel(SoundClassificationBase):\n",
        "    \n",
        "    def __init__(self):\n",
        "        \n",
        "        super().__init__()\n",
        "        \n",
        "        self.network = nn.Sequential(\n",
        "            \n",
        "            \n",
        "            # input 1 x 64 x 44\n",
        "            nn.Conv2d(1,16, kernel_size = 3, stride = 1, padding = 2), # input size =16 x 66 x 46\n",
        "            nn.BatchNorm2d(16),\n",
        "            nn.ReLU(),\n",
        "            nn.MaxPool2d(2), # 16 x 33 x 23\n",
        "            \n",
        "            nn.Conv2d(16, 32, kernel_size=3, stride = 1, padding = 2), # 32 x 35 x 25\n",
        "            nn.BatchNorm2d(32),\n",
        "            nn.ReLU(),\n",
        "            nn.MaxPool2d(2), # output 32 x 17 x 12\n",
        "            \n",
        "            \n",
        "            nn.Conv2d(32, 64 , kernel_size=3, stride = 1, padding = 2), # 64 x 19 x 14\n",
        "            nn.BatchNorm2d(64),\n",
        "            nn.ReLU(),\n",
        "            nn.MaxPool2d(2), # 64 x 9 x 7\n",
        "\n",
        "\n",
        "            nn.Conv2d(64 , 128 , kernel_size= 3 , stride = 1 , padding = 2), # 128 x 11 x  9\n",
        "            nn.BatchNorm2d(128),\n",
        "            nn.ReLU(), \n",
        "            nn.MaxPool2d(2), # output 128 x 5 x 4\n",
        "            \n",
        "            \n",
        "            nn.Flatten(),\n",
        "            nn.Linear(128*5*4, 10),\n",
        "            nn.Softmax(dim=1))\n",
        "\n",
        "        \n",
        "    def forward(self, xb):\n",
        "        return self.network(xb)\n",
        "    \n",
        "        \n",
        "        "
      ],
      "id": "e6192823-f82c-4b2f-90f6-5d3c406ac4db",
      "execution_count": 16,
      "outputs": []
    },
    {
      "cell_type": "code",
      "metadata": {
        "colab": {
          "base_uri": "https://localhost:8080/"
        },
        "id": "R94lwbtR6tvf",
        "outputId": "388749ff-3c3b-4f34-fed3-d430cd33f540"
      },
      "source": [
        "for signal, label in train_dl:\n",
        "    print(signal.shape)\n",
        "    break\n",
        "    "
      ],
      "id": "R94lwbtR6tvf",
      "execution_count": 17,
      "outputs": [
        {
          "output_type": "stream",
          "text": [
            "torch.Size([128, 1, 64, 44])\n"
          ],
          "name": "stdout"
        }
      ]
    },
    {
      "cell_type": "code",
      "metadata": {
        "colab": {
          "base_uri": "https://localhost:8080/"
        },
        "id": "dcefda99-1af3-40ba-ba58-7f585c58660f",
        "outputId": "f494ed23-e4d1-485d-f8f3-5e1aac614d59"
      },
      "source": [
        "model = to_device(UsdCnnModel(),device)\n",
        "print(\"*\"*25+\" Model Summary \"+\"*\"*25)\n",
        "print(summary(model,(1,64,44) ))"
      ],
      "id": "dcefda99-1af3-40ba-ba58-7f585c58660f",
      "execution_count": 18,
      "outputs": [
        {
          "output_type": "stream",
          "text": [
            "************************* Model Summary *************************\n",
            "----------------------------------------------------------------\n",
            "        Layer (type)               Output Shape         Param #\n",
            "================================================================\n",
            "            Conv2d-1           [-1, 16, 66, 46]             160\n",
            "       BatchNorm2d-2           [-1, 16, 66, 46]              32\n",
            "              ReLU-3           [-1, 16, 66, 46]               0\n",
            "         MaxPool2d-4           [-1, 16, 33, 23]               0\n",
            "            Conv2d-5           [-1, 32, 35, 25]           4,640\n",
            "       BatchNorm2d-6           [-1, 32, 35, 25]              64\n",
            "              ReLU-7           [-1, 32, 35, 25]               0\n",
            "         MaxPool2d-8           [-1, 32, 17, 12]               0\n",
            "            Conv2d-9           [-1, 64, 19, 14]          18,496\n",
            "      BatchNorm2d-10           [-1, 64, 19, 14]             128\n",
            "             ReLU-11           [-1, 64, 19, 14]               0\n",
            "        MaxPool2d-12             [-1, 64, 9, 7]               0\n",
            "           Conv2d-13           [-1, 128, 11, 9]          73,856\n",
            "      BatchNorm2d-14           [-1, 128, 11, 9]             256\n",
            "             ReLU-15           [-1, 128, 11, 9]               0\n",
            "        MaxPool2d-16            [-1, 128, 5, 4]               0\n",
            "          Flatten-17                 [-1, 2560]               0\n",
            "           Linear-18                   [-1, 10]          25,610\n",
            "          Softmax-19                   [-1, 10]               0\n",
            "================================================================\n",
            "Total params: 123,242\n",
            "Trainable params: 123,242\n",
            "Non-trainable params: 0\n",
            "----------------------------------------------------------------\n",
            "Input size (MB): 0.01\n",
            "Forward/backward pass size (MB): 2.64\n",
            "Params size (MB): 0.47\n",
            "Estimated Total Size (MB): 3.13\n",
            "----------------------------------------------------------------\n",
            "None\n"
          ],
          "name": "stdout"
        },
        {
          "output_type": "stream",
          "text": [
            "/usr/local/lib/python3.7/dist-packages/torch/nn/functional.py:718: UserWarning: Named tensors and all their associated APIs are an experimental feature and subject to change. Please do not use them for anything important until they are released as stable. (Triggered internally at  /pytorch/c10/core/TensorImpl.h:1156.)\n",
            "  return torch.max_pool2d(input, kernel_size, stride, padding, dilation, ceil_mode)\n"
          ],
          "name": "stderr"
        }
      ]
    },
    {
      "cell_type": "code",
      "metadata": {
        "colab": {
          "base_uri": "https://localhost:8080/"
        },
        "id": "b0swkupPo7Fd",
        "outputId": "a002429a-a930-4ca0-ed39-2bf52a0bcb37"
      },
      "source": [
        "from google.colab import drive\n",
        "drive.mount('/content/drive')\n"
      ],
      "id": "b0swkupPo7Fd",
      "execution_count": 19,
      "outputs": [
        {
          "output_type": "stream",
          "text": [
            "Mounted at /content/drive\n"
          ],
          "name": "stdout"
        }
      ]
    },
    {
      "cell_type": "code",
      "metadata": {
        "id": "3Ht7T4bmpgJR"
      },
      "source": [
        "@torch.no_grad()\n",
        "def evalute(model,val_loader):\n",
        "    model.eval()\n",
        "    \n",
        "    outputs = [model.validation_step(batch) for batch in val_loader]\n",
        "    return model.validation_epoch_end(outputs)\n",
        "\n",
        "\n",
        "\n",
        "\n",
        "def fit(start_epoch, epochs, lr, model,history, train_loader, valid_loader , optimizer):\n",
        "\n",
        "    \n",
        "    \n",
        "    \n",
        "    start = time.time()\n",
        "    for epoch in tqdm(range(start_epoch,epochs)):\n",
        "        \n",
        "        # training phase \n",
        "        model.train()\n",
        "        train_losses = []\n",
        "        \n",
        "        for batch in train_loader: \n",
        "            loss = model.training_step(batch)\n",
        "            train_losses.append(loss)\n",
        "            loss.backward()\n",
        "            \n",
        "            optimizer.step()\n",
        "            \n",
        "            optimizer.zero_grad()\n",
        "            \n",
        "        \n",
        "        # validation phase \n",
        "        \n",
        "        result = evalute(model, valid_loader)\n",
        "        result[\"train_loss\"]  = torch.stack(train_losses).mean().item()\n",
        "        model.epoch_end(epoch, result)\n",
        "        history.append(result)\n",
        "\n",
        "        # saving history to drive \n",
        "        open_file = open(saved_history, 'wb')\n",
        "        pickle.dump(history,open_file)\n",
        "        open_file.close()\n",
        "        \n",
        "        # saving the model\n",
        "        \n",
        "        #saving model in drive\n",
        "        model_save_name = 'urban_sound_classification_mel_spec_cnn_softmax.pt'\n",
        "        saving_path = F\"/content/drive/MyDrive/DL_models/UrbanSound8k/{model_save_name}\" \n",
        "        #saving_path = F\"data/{model_save_name}\" \n",
        "\n",
        "        \n",
        "        torch.save({\n",
        "                    'epoch': epoch+1,\n",
        "                    'model_state_dict': model.state_dict(),\n",
        "                    'optimizer_state_dict':optimizer.state_dict(),\n",
        "\n",
        "\n",
        "                    }, saving_path)\n",
        "        end = time.time()\n",
        "        print((end-start)/60,' Minutes')\n",
        "    \n",
        "    return history"
      ],
      "id": "3Ht7T4bmpgJR",
      "execution_count": 20,
      "outputs": []
    },
    {
      "cell_type": "code",
      "metadata": {
        "colab": {
          "base_uri": "https://localhost:8080/"
        },
        "id": "8e07099d-0db8-4d0d-b7d3-6780e0041d8b",
        "outputId": "1402b98d-33be-425f-fc33-e12c51c3e94b"
      },
      "source": [
        "evalute(model, valid_dl)"
      ],
      "id": "8e07099d-0db8-4d0d-b7d3-6780e0041d8b",
      "execution_count": 21,
      "outputs": [
        {
          "output_type": "execute_result",
          "data": {
            "text/plain": [
              "{'val_acc': 0.11578560620546341, 'val_loss': 2.3155293464660645}"
            ]
          },
          "metadata": {
            "tags": []
          },
          "execution_count": 21
        }
      ]
    },
    {
      "cell_type": "code",
      "metadata": {
        "id": "RF_0jyMQqbhO"
      },
      "source": [
        "lr = 0.001\n",
        "total_epochs = 50\n",
        "optimizer = torch.optim.Adam(model.parameters(),lr = lr)"
      ],
      "id": "RF_0jyMQqbhO",
      "execution_count": 22,
      "outputs": []
    },
    {
      "cell_type": "code",
      "metadata": {
        "id": "d298ae78-a06c-499f-a4be-aa254647e0ab"
      },
      "source": [
        "start_epoch = 0\n",
        "#history = [] #uncomment this only on first time running (if saved_history.pkl doesn't exist )\n",
        "saved_history = \"/content/drive/MyDrive/DL_models/UrbanSound8k/saved_history.pkl\" \n",
        "checkpoint = torch.load(\"/content/drive/MyDrive/DL_models/UrbanSound8k/urban_sound_classification_mel_spec_cnn_softmax.pt\")\n",
        "model.load_state_dict(checkpoint['model_state_dict'])\n",
        "optimizer.load_state_dict(checkpoint['optimizer_state_dict'])\n",
        "start_epoch = checkpoint['epoch']\n",
        "\n",
        "open_file = open(saved_history, \"rb\")\n",
        "history = pickle.load(open_file)\n",
        "open_file.close()\n"
      ],
      "id": "d298ae78-a06c-499f-a4be-aa254647e0ab",
      "execution_count": 23,
      "outputs": []
    },
    {
      "cell_type": "code",
      "metadata": {
        "colab": {
          "base_uri": "https://localhost:8080/",
          "height": 440,
          "referenced_widgets": [
            "b6ac50032d824a5bb0dc4fb7b718898c",
            "3f8cd6ab80f5479597417003f699b57b",
            "3e7674635c5746c38385426719afa1e5",
            "7a4136a22b404dcaa37efe919ceeb542",
            "b38cb0761d5f47218f75860b6b7393a6",
            "2697a381da1a4a748c429e695d6ce72a",
            "904149f8b15b45c0b9a1f63fda8a7391",
            "8ec79f342852484ba4a058998e5ad90e"
          ]
        },
        "id": "TQhLN_Xqqhpt",
        "outputId": "b768bf37-01a9-42be-fe08-a2b89b154cf4"
      },
      "source": [
        "complete_history = fit(start_epoch,total_count,lr,model,history,train_dl,valid_dl,optimizer)"
      ],
      "id": "TQhLN_Xqqhpt",
      "execution_count": 24,
      "outputs": [
        {
          "output_type": "display_data",
          "data": {
            "application/vnd.jupyter.widget-view+json": {
              "model_id": "b6ac50032d824a5bb0dc4fb7b718898c",
              "version_minor": 0,
              "version_major": 2
            },
            "text/plain": [
              "HBox(children=(FloatProgress(value=0.0, max=8639.0), HTML(value='')))"
            ]
          },
          "metadata": {
            "tags": []
          }
        },
        {
          "output_type": "stream",
          "text": [
            "Epoch[93] , train loss : 1.647 ,val loss : 1.950 , val accuracy : 0.507\n",
            "2.9063095609347025  Minutes\n",
            "Epoch[94] , train loss : 1.649 ,val loss : 1.880 , val accuracy : 0.576\n",
            "5.676251292228699  Minutes\n",
            "Epoch[95] , train loss : 1.646 ,val loss : 1.986 , val accuracy : 0.472\n",
            "8.223115078608195  Minutes\n"
          ],
          "name": "stdout"
        },
        {
          "output_type": "error",
          "ename": "KeyboardInterrupt",
          "evalue": "ignored",
          "traceback": [
            "\u001b[0;31m---------------------------------------------------------------------------\u001b[0m",
            "\u001b[0;31mKeyboardInterrupt\u001b[0m                         Traceback (most recent call last)",
            "\u001b[0;32m<ipython-input-24-15c6d3b8ac2c>\u001b[0m in \u001b[0;36m<module>\u001b[0;34m()\u001b[0m\n\u001b[0;32m----> 1\u001b[0;31m \u001b[0mcomplete_history\u001b[0m \u001b[0;34m=\u001b[0m \u001b[0mfit\u001b[0m\u001b[0;34m(\u001b[0m\u001b[0mstart_epoch\u001b[0m\u001b[0;34m,\u001b[0m\u001b[0mtotal_count\u001b[0m\u001b[0;34m,\u001b[0m\u001b[0mlr\u001b[0m\u001b[0;34m,\u001b[0m\u001b[0mmodel\u001b[0m\u001b[0;34m,\u001b[0m\u001b[0mhistory\u001b[0m\u001b[0;34m,\u001b[0m\u001b[0mtrain_dl\u001b[0m\u001b[0;34m,\u001b[0m\u001b[0mvalid_dl\u001b[0m\u001b[0;34m,\u001b[0m\u001b[0moptimizer\u001b[0m\u001b[0;34m)\u001b[0m\u001b[0;34m\u001b[0m\u001b[0;34m\u001b[0m\u001b[0m\n\u001b[0m",
            "\u001b[0;32m<ipython-input-20-1c48af7516da>\u001b[0m in \u001b[0;36mfit\u001b[0;34m(start_epoch, epochs, lr, model, history, train_loader, valid_loader, optimizer)\u001b[0m\n\u001b[1;32m     21\u001b[0m         \u001b[0mtrain_losses\u001b[0m \u001b[0;34m=\u001b[0m \u001b[0;34m[\u001b[0m\u001b[0;34m]\u001b[0m\u001b[0;34m\u001b[0m\u001b[0;34m\u001b[0m\u001b[0m\n\u001b[1;32m     22\u001b[0m \u001b[0;34m\u001b[0m\u001b[0m\n\u001b[0;32m---> 23\u001b[0;31m         \u001b[0;32mfor\u001b[0m \u001b[0mbatch\u001b[0m \u001b[0;32min\u001b[0m \u001b[0mtrain_loader\u001b[0m\u001b[0;34m:\u001b[0m\u001b[0;34m\u001b[0m\u001b[0;34m\u001b[0m\u001b[0m\n\u001b[0m\u001b[1;32m     24\u001b[0m             \u001b[0mloss\u001b[0m \u001b[0;34m=\u001b[0m \u001b[0mmodel\u001b[0m\u001b[0;34m.\u001b[0m\u001b[0mtraining_step\u001b[0m\u001b[0;34m(\u001b[0m\u001b[0mbatch\u001b[0m\u001b[0;34m)\u001b[0m\u001b[0;34m\u001b[0m\u001b[0;34m\u001b[0m\u001b[0m\n\u001b[1;32m     25\u001b[0m             \u001b[0mtrain_losses\u001b[0m\u001b[0;34m.\u001b[0m\u001b[0mappend\u001b[0m\u001b[0;34m(\u001b[0m\u001b[0mloss\u001b[0m\u001b[0;34m)\u001b[0m\u001b[0;34m\u001b[0m\u001b[0;34m\u001b[0m\u001b[0m\n",
            "\u001b[0;32m<ipython-input-10-607888b6aadf>\u001b[0m in \u001b[0;36m__iter__\u001b[0;34m(self)\u001b[0m\n\u001b[1;32m     23\u001b[0m     \u001b[0;32mdef\u001b[0m \u001b[0m__iter__\u001b[0m\u001b[0;34m(\u001b[0m\u001b[0mself\u001b[0m\u001b[0;34m)\u001b[0m\u001b[0;34m:\u001b[0m\u001b[0;34m\u001b[0m\u001b[0;34m\u001b[0m\u001b[0m\n\u001b[1;32m     24\u001b[0m \u001b[0;34m\u001b[0m\u001b[0m\n\u001b[0;32m---> 25\u001b[0;31m         \u001b[0;32mfor\u001b[0m \u001b[0mb\u001b[0m \u001b[0;32min\u001b[0m \u001b[0mself\u001b[0m\u001b[0;34m.\u001b[0m\u001b[0mdl\u001b[0m\u001b[0;34m:\u001b[0m\u001b[0;34m\u001b[0m\u001b[0;34m\u001b[0m\u001b[0m\n\u001b[0m\u001b[1;32m     26\u001b[0m             \u001b[0;32myield\u001b[0m \u001b[0mto_device\u001b[0m\u001b[0;34m(\u001b[0m\u001b[0mb\u001b[0m\u001b[0;34m,\u001b[0m \u001b[0mself\u001b[0m\u001b[0;34m.\u001b[0m\u001b[0mdevice\u001b[0m\u001b[0;34m)\u001b[0m\u001b[0;34m\u001b[0m\u001b[0;34m\u001b[0m\u001b[0m\n\u001b[1;32m     27\u001b[0m \u001b[0;34m\u001b[0m\u001b[0m\n",
            "\u001b[0;32m/usr/local/lib/python3.7/dist-packages/torch/utils/data/dataloader.py\u001b[0m in \u001b[0;36m__next__\u001b[0;34m(self)\u001b[0m\n\u001b[1;32m    519\u001b[0m             \u001b[0;32mif\u001b[0m \u001b[0mself\u001b[0m\u001b[0;34m.\u001b[0m\u001b[0m_sampler_iter\u001b[0m \u001b[0;32mis\u001b[0m \u001b[0;32mNone\u001b[0m\u001b[0;34m:\u001b[0m\u001b[0;34m\u001b[0m\u001b[0;34m\u001b[0m\u001b[0m\n\u001b[1;32m    520\u001b[0m                 \u001b[0mself\u001b[0m\u001b[0;34m.\u001b[0m\u001b[0m_reset\u001b[0m\u001b[0;34m(\u001b[0m\u001b[0;34m)\u001b[0m\u001b[0;34m\u001b[0m\u001b[0;34m\u001b[0m\u001b[0m\n\u001b[0;32m--> 521\u001b[0;31m             \u001b[0mdata\u001b[0m \u001b[0;34m=\u001b[0m \u001b[0mself\u001b[0m\u001b[0;34m.\u001b[0m\u001b[0m_next_data\u001b[0m\u001b[0;34m(\u001b[0m\u001b[0;34m)\u001b[0m\u001b[0;34m\u001b[0m\u001b[0;34m\u001b[0m\u001b[0m\n\u001b[0m\u001b[1;32m    522\u001b[0m             \u001b[0mself\u001b[0m\u001b[0;34m.\u001b[0m\u001b[0m_num_yielded\u001b[0m \u001b[0;34m+=\u001b[0m \u001b[0;36m1\u001b[0m\u001b[0;34m\u001b[0m\u001b[0;34m\u001b[0m\u001b[0m\n\u001b[1;32m    523\u001b[0m             \u001b[0;32mif\u001b[0m \u001b[0mself\u001b[0m\u001b[0;34m.\u001b[0m\u001b[0m_dataset_kind\u001b[0m \u001b[0;34m==\u001b[0m \u001b[0m_DatasetKind\u001b[0m\u001b[0;34m.\u001b[0m\u001b[0mIterable\u001b[0m \u001b[0;32mand\u001b[0m\u001b[0;31m \u001b[0m\u001b[0;31m\\\u001b[0m\u001b[0;34m\u001b[0m\u001b[0;34m\u001b[0m\u001b[0m\n",
            "\u001b[0;32m/usr/local/lib/python3.7/dist-packages/torch/utils/data/dataloader.py\u001b[0m in \u001b[0;36m_next_data\u001b[0;34m(self)\u001b[0m\n\u001b[1;32m   1184\u001b[0m \u001b[0;34m\u001b[0m\u001b[0m\n\u001b[1;32m   1185\u001b[0m             \u001b[0;32massert\u001b[0m \u001b[0;32mnot\u001b[0m \u001b[0mself\u001b[0m\u001b[0;34m.\u001b[0m\u001b[0m_shutdown\u001b[0m \u001b[0;32mand\u001b[0m \u001b[0mself\u001b[0m\u001b[0;34m.\u001b[0m\u001b[0m_tasks_outstanding\u001b[0m \u001b[0;34m>\u001b[0m \u001b[0;36m0\u001b[0m\u001b[0;34m\u001b[0m\u001b[0;34m\u001b[0m\u001b[0m\n\u001b[0;32m-> 1186\u001b[0;31m             \u001b[0midx\u001b[0m\u001b[0;34m,\u001b[0m \u001b[0mdata\u001b[0m \u001b[0;34m=\u001b[0m \u001b[0mself\u001b[0m\u001b[0;34m.\u001b[0m\u001b[0m_get_data\u001b[0m\u001b[0;34m(\u001b[0m\u001b[0;34m)\u001b[0m\u001b[0;34m\u001b[0m\u001b[0;34m\u001b[0m\u001b[0m\n\u001b[0m\u001b[1;32m   1187\u001b[0m             \u001b[0mself\u001b[0m\u001b[0;34m.\u001b[0m\u001b[0m_tasks_outstanding\u001b[0m \u001b[0;34m-=\u001b[0m \u001b[0;36m1\u001b[0m\u001b[0;34m\u001b[0m\u001b[0;34m\u001b[0m\u001b[0m\n\u001b[1;32m   1188\u001b[0m             \u001b[0;32mif\u001b[0m \u001b[0mself\u001b[0m\u001b[0;34m.\u001b[0m\u001b[0m_dataset_kind\u001b[0m \u001b[0;34m==\u001b[0m \u001b[0m_DatasetKind\u001b[0m\u001b[0;34m.\u001b[0m\u001b[0mIterable\u001b[0m\u001b[0;34m:\u001b[0m\u001b[0;34m\u001b[0m\u001b[0;34m\u001b[0m\u001b[0m\n",
            "\u001b[0;32m/usr/local/lib/python3.7/dist-packages/torch/utils/data/dataloader.py\u001b[0m in \u001b[0;36m_get_data\u001b[0;34m(self)\u001b[0m\n\u001b[1;32m   1140\u001b[0m         \u001b[0;32melif\u001b[0m \u001b[0mself\u001b[0m\u001b[0;34m.\u001b[0m\u001b[0m_pin_memory\u001b[0m\u001b[0;34m:\u001b[0m\u001b[0;34m\u001b[0m\u001b[0;34m\u001b[0m\u001b[0m\n\u001b[1;32m   1141\u001b[0m             \u001b[0;32mwhile\u001b[0m \u001b[0mself\u001b[0m\u001b[0;34m.\u001b[0m\u001b[0m_pin_memory_thread\u001b[0m\u001b[0;34m.\u001b[0m\u001b[0mis_alive\u001b[0m\u001b[0;34m(\u001b[0m\u001b[0;34m)\u001b[0m\u001b[0;34m:\u001b[0m\u001b[0;34m\u001b[0m\u001b[0;34m\u001b[0m\u001b[0m\n\u001b[0;32m-> 1142\u001b[0;31m                 \u001b[0msuccess\u001b[0m\u001b[0;34m,\u001b[0m \u001b[0mdata\u001b[0m \u001b[0;34m=\u001b[0m \u001b[0mself\u001b[0m\u001b[0;34m.\u001b[0m\u001b[0m_try_get_data\u001b[0m\u001b[0;34m(\u001b[0m\u001b[0;34m)\u001b[0m\u001b[0;34m\u001b[0m\u001b[0;34m\u001b[0m\u001b[0m\n\u001b[0m\u001b[1;32m   1143\u001b[0m                 \u001b[0;32mif\u001b[0m \u001b[0msuccess\u001b[0m\u001b[0;34m:\u001b[0m\u001b[0;34m\u001b[0m\u001b[0;34m\u001b[0m\u001b[0m\n\u001b[1;32m   1144\u001b[0m                     \u001b[0;32mreturn\u001b[0m \u001b[0mdata\u001b[0m\u001b[0;34m\u001b[0m\u001b[0;34m\u001b[0m\u001b[0m\n",
            "\u001b[0;32m/usr/local/lib/python3.7/dist-packages/torch/utils/data/dataloader.py\u001b[0m in \u001b[0;36m_try_get_data\u001b[0;34m(self, timeout)\u001b[0m\n\u001b[1;32m    988\u001b[0m         \u001b[0;31m#   (bool: whether successfully get data, any: data if successful else None)\u001b[0m\u001b[0;34m\u001b[0m\u001b[0;34m\u001b[0m\u001b[0;34m\u001b[0m\u001b[0m\n\u001b[1;32m    989\u001b[0m         \u001b[0;32mtry\u001b[0m\u001b[0;34m:\u001b[0m\u001b[0;34m\u001b[0m\u001b[0;34m\u001b[0m\u001b[0m\n\u001b[0;32m--> 990\u001b[0;31m             \u001b[0mdata\u001b[0m \u001b[0;34m=\u001b[0m \u001b[0mself\u001b[0m\u001b[0;34m.\u001b[0m\u001b[0m_data_queue\u001b[0m\u001b[0;34m.\u001b[0m\u001b[0mget\u001b[0m\u001b[0;34m(\u001b[0m\u001b[0mtimeout\u001b[0m\u001b[0;34m=\u001b[0m\u001b[0mtimeout\u001b[0m\u001b[0;34m)\u001b[0m\u001b[0;34m\u001b[0m\u001b[0;34m\u001b[0m\u001b[0m\n\u001b[0m\u001b[1;32m    991\u001b[0m             \u001b[0;32mreturn\u001b[0m \u001b[0;34m(\u001b[0m\u001b[0;32mTrue\u001b[0m\u001b[0;34m,\u001b[0m \u001b[0mdata\u001b[0m\u001b[0;34m)\u001b[0m\u001b[0;34m\u001b[0m\u001b[0;34m\u001b[0m\u001b[0m\n\u001b[1;32m    992\u001b[0m         \u001b[0;32mexcept\u001b[0m \u001b[0mException\u001b[0m \u001b[0;32mas\u001b[0m \u001b[0me\u001b[0m\u001b[0;34m:\u001b[0m\u001b[0;34m\u001b[0m\u001b[0;34m\u001b[0m\u001b[0m\n",
            "\u001b[0;32m/usr/lib/python3.7/queue.py\u001b[0m in \u001b[0;36mget\u001b[0;34m(self, block, timeout)\u001b[0m\n\u001b[1;32m    177\u001b[0m                     \u001b[0;32mif\u001b[0m \u001b[0mremaining\u001b[0m \u001b[0;34m<=\u001b[0m \u001b[0;36m0.0\u001b[0m\u001b[0;34m:\u001b[0m\u001b[0;34m\u001b[0m\u001b[0;34m\u001b[0m\u001b[0m\n\u001b[1;32m    178\u001b[0m                         \u001b[0;32mraise\u001b[0m \u001b[0mEmpty\u001b[0m\u001b[0;34m\u001b[0m\u001b[0;34m\u001b[0m\u001b[0m\n\u001b[0;32m--> 179\u001b[0;31m                     \u001b[0mself\u001b[0m\u001b[0;34m.\u001b[0m\u001b[0mnot_empty\u001b[0m\u001b[0;34m.\u001b[0m\u001b[0mwait\u001b[0m\u001b[0;34m(\u001b[0m\u001b[0mremaining\u001b[0m\u001b[0;34m)\u001b[0m\u001b[0;34m\u001b[0m\u001b[0;34m\u001b[0m\u001b[0m\n\u001b[0m\u001b[1;32m    180\u001b[0m             \u001b[0mitem\u001b[0m \u001b[0;34m=\u001b[0m \u001b[0mself\u001b[0m\u001b[0;34m.\u001b[0m\u001b[0m_get\u001b[0m\u001b[0;34m(\u001b[0m\u001b[0;34m)\u001b[0m\u001b[0;34m\u001b[0m\u001b[0;34m\u001b[0m\u001b[0m\n\u001b[1;32m    181\u001b[0m             \u001b[0mself\u001b[0m\u001b[0;34m.\u001b[0m\u001b[0mnot_full\u001b[0m\u001b[0;34m.\u001b[0m\u001b[0mnotify\u001b[0m\u001b[0;34m(\u001b[0m\u001b[0;34m)\u001b[0m\u001b[0;34m\u001b[0m\u001b[0;34m\u001b[0m\u001b[0m\n",
            "\u001b[0;32m/usr/lib/python3.7/threading.py\u001b[0m in \u001b[0;36mwait\u001b[0;34m(self, timeout)\u001b[0m\n\u001b[1;32m    298\u001b[0m             \u001b[0;32melse\u001b[0m\u001b[0;34m:\u001b[0m\u001b[0;34m\u001b[0m\u001b[0;34m\u001b[0m\u001b[0m\n\u001b[1;32m    299\u001b[0m                 \u001b[0;32mif\u001b[0m \u001b[0mtimeout\u001b[0m \u001b[0;34m>\u001b[0m \u001b[0;36m0\u001b[0m\u001b[0;34m:\u001b[0m\u001b[0;34m\u001b[0m\u001b[0;34m\u001b[0m\u001b[0m\n\u001b[0;32m--> 300\u001b[0;31m                     \u001b[0mgotit\u001b[0m \u001b[0;34m=\u001b[0m \u001b[0mwaiter\u001b[0m\u001b[0;34m.\u001b[0m\u001b[0macquire\u001b[0m\u001b[0;34m(\u001b[0m\u001b[0;32mTrue\u001b[0m\u001b[0;34m,\u001b[0m \u001b[0mtimeout\u001b[0m\u001b[0;34m)\u001b[0m\u001b[0;34m\u001b[0m\u001b[0;34m\u001b[0m\u001b[0m\n\u001b[0m\u001b[1;32m    301\u001b[0m                 \u001b[0;32melse\u001b[0m\u001b[0;34m:\u001b[0m\u001b[0;34m\u001b[0m\u001b[0;34m\u001b[0m\u001b[0m\n\u001b[1;32m    302\u001b[0m                     \u001b[0mgotit\u001b[0m \u001b[0;34m=\u001b[0m \u001b[0mwaiter\u001b[0m\u001b[0;34m.\u001b[0m\u001b[0macquire\u001b[0m\u001b[0;34m(\u001b[0m\u001b[0;32mFalse\u001b[0m\u001b[0;34m)\u001b[0m\u001b[0;34m\u001b[0m\u001b[0;34m\u001b[0m\u001b[0m\n",
            "\u001b[0;31mKeyboardInterrupt\u001b[0m: "
          ]
        }
      ]
    },
    {
      "cell_type": "code",
      "metadata": {
        "id": "1JelGhOBqoSW",
        "colab": {
          "base_uri": "https://localhost:8080/"
        },
        "outputId": "8528d723-2966-4af8-ecd6-cfd02055e465"
      },
      "source": [
        "open_file = open(saved_history, \"rb\")\n",
        "loaded_list = pickle.load(open_file)\n",
        "open_file.close()\n",
        "\n",
        "len(loaded_list), type(loaded_list)"
      ],
      "id": "1JelGhOBqoSW",
      "execution_count": 25,
      "outputs": [
        {
          "output_type": "execute_result",
          "data": {
            "text/plain": [
              "(86, list)"
            ]
          },
          "metadata": {
            "tags": []
          },
          "execution_count": 25
        }
      ]
    },
    {
      "cell_type": "code",
      "metadata": {
        "colab": {
          "base_uri": "https://localhost:8080/",
          "height": 282
        },
        "id": "Zy7BpOHPf6cJ",
        "outputId": "b656b60f-accf-4bbd-d9f6-a89527b91a1e"
      },
      "source": [
        "import matplotlib.pyplot as plt\n",
        "\n",
        "\n",
        "val_accuracies = [x['val_acc'] for x in loaded_list]\n",
        "plt.plot(val_accuracies,'-x')"
      ],
      "id": "Zy7BpOHPf6cJ",
      "execution_count": 43,
      "outputs": [
        {
          "output_type": "execute_result",
          "data": {
            "text/plain": [
              "[<matplotlib.lines.Line2D at 0x7f9cf8be87d0>]"
            ]
          },
          "metadata": {
            "tags": []
          },
          "execution_count": 43
        },
        {
          "output_type": "display_data",
          "data": {
            "image/png": "[encoded data removed]",
            "text/plain": [
              "<Figure size 432x288 with 1 Axes>"
            ]
          },
          "metadata": {
            "tags": [],
            "needs_background": "light"
          }
        }
      ]
    },
    {
      "cell_type": "code",
      "metadata": {
        "colab": {
          "base_uri": "https://localhost:8080/",
          "height": 265
        },
        "id": "TcmTCkgEnQ0W",
        "outputId": "95056781-5552-4552-af77-50c8524d233f"
      },
      "source": [
        "train_losses = [x['train_loss'] for x in loaded_list]\n",
        "val_losses = [x['val_loss'] for x in loaded_list]\n",
        "\n",
        "plt.plot(train_losses,'-bx')\n",
        "plt.plot(val_losses,'-rx')\n",
        "plt.legend(['train loss', 'validation loss'])\n",
        "plt.show()"
      ],
      "id": "TcmTCkgEnQ0W",
      "execution_count": 64,
      "outputs": [
        {
          "output_type": "display_data",
          "data": {
            "image/png": "[encoded data removed]",
            "text/plain": [
              "<Figure size 432x288 with 1 Axes>"
            ]
          },
          "metadata": {
            "tags": [],
            "needs_background": "light"
          }
        }
      ]
    },
    {
      "cell_type": "code",
      "metadata": {
        "id": "3czezNcgvlg7"
      },
      "source": [
        "class_mapping = [\n",
        "    \"air_conditioner\",\n",
        "    \"car_horn\",\n",
        "    \"children_playing\",\n",
        "    \"dog_bark\",\n",
        "    \"drilling\",\n",
        "    \"engine_idling\",\n",
        "    \"gun_shot\",\n",
        "    \"jackhammer\",\n",
        "    \"siren\",\n",
        "    \"street_music\"\n",
        "]\n",
        "def predict(model, input, target, class_mapping):\n",
        "    model.eval()\n",
        "    with torch.no_grad():\n",
        "        predictions = model(input)\n",
        "        predicted_index = predictions[0].argmax(0)\n",
        "        predicted = class_mapping[predicted_index]\n",
        "        expected = class_mapping[target]\n",
        "    return predicted, expected\n"
      ],
      "id": "3czezNcgvlg7",
      "execution_count": 45,
      "outputs": []
    },
    {
      "cell_type": "code",
      "metadata": {
        "colab": {
          "base_uri": "https://localhost:8080/"
        },
        "id": "zvrouEQWkMWz",
        "outputId": "4c25ea41-f42f-403b-862a-33116a7162ac"
      },
      "source": [
        "input, target = usd[22][0], usd[22][1]\n",
        "input.unsqueeze_(0)\n",
        "\n",
        "predicted, expected = predict(model.cpu(), input, target,class_mapping)\n",
        "print(f\"Predicted: '{predicted}', expected: '{expected}'\")"
      ],
      "id": "zvrouEQWkMWz",
      "execution_count": 60,
      "outputs": [
        {
          "output_type": "stream",
          "text": [
            "Predicted: 'air_conditioner', expected: 'air_conditioner'\n"
          ],
          "name": "stdout"
        }
      ]
    },
    {
      "cell_type": "code",
      "metadata": {
        "id": "cLgqlFvBkv1W"
      },
      "source": [
        ""
      ],
      "id": "cLgqlFvBkv1W",
      "execution_count": null,
      "outputs": []
    }
  ]
}