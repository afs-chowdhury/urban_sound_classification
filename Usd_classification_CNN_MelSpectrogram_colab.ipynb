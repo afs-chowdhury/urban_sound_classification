{
  "nbformat": 4,
  "nbformat_minor": 5,
  "metadata": {
    "kernelspec": {
      "display_name": "Python 3",
      "language": "python",
      "name": "python3"
    },
    "language_info": {
      "codemirror_mode": {
        "name": "ipython",
        "version": 3
      },
      "file_extension": ".py",
      "mimetype": "text/x-python",
      "name": "python",
      "nbconvert_exporter": "python",
      "pygments_lexer": "ipython3",
      "version": "3.8.10"
    },
    "colab": {
      "name": "Usd_classification_CNN_MelSpectrogram_colab.ipynb",
      "provenance": [],
      "collapsed_sections": []
    },
    "accelerator": "GPU",
    "widgets": {
      "application/vnd.jupyter.widget-state+json": {
        "15eb6bf35d9c4cd5b2ba54de32838126": {
          "model_module": "@jupyter-widgets/controls",
          "model_name": "HBoxModel",
          "state": {
            "_view_name": "HBoxView",
            "_dom_classes": [],
            "_model_name": "HBoxModel",
            "_view_module": "@jupyter-widgets/controls",
            "_model_module_version": "1.5.0",
            "_view_count": null,
            "_view_module_version": "1.5.0",
            "box_style": "",
            "layout": "IPY_MODEL_a2b296da5f0941a1a72dc08123987255",
            "_model_module": "@jupyter-widgets/controls",
            "children": [
              "IPY_MODEL_27bbee347a1242d6bca57aed12d7bbfc",
              "IPY_MODEL_a1a330aa9f11496c922ab23e970ba5f3"
            ]
          }
        },
        "a2b296da5f0941a1a72dc08123987255": {
          "model_module": "@jupyter-widgets/base",
          "model_name": "LayoutModel",
          "state": {
            "_view_name": "LayoutView",
            "grid_template_rows": null,
            "right": null,
            "justify_content": null,
            "_view_module": "@jupyter-widgets/base",
            "overflow": null,
            "_model_module_version": "1.2.0",
            "_view_count": null,
            "flex_flow": null,
            "width": null,
            "min_width": null,
            "border": null,
            "align_items": null,
            "bottom": null,
            "_model_module": "@jupyter-widgets/base",
            "top": null,
            "grid_column": null,
            "overflow_y": null,
            "overflow_x": null,
            "grid_auto_flow": null,
            "grid_area": null,
            "grid_template_columns": null,
            "flex": null,
            "_model_name": "LayoutModel",
            "justify_items": null,
            "grid_row": null,
            "max_height": null,
            "align_content": null,
            "visibility": null,
            "align_self": null,
            "height": null,
            "min_height": null,
            "padding": null,
            "grid_auto_rows": null,
            "grid_gap": null,
            "max_width": null,
            "order": null,
            "_view_module_version": "1.2.0",
            "grid_template_areas": null,
            "object_position": null,
            "object_fit": null,
            "grid_auto_columns": null,
            "margin": null,
            "display": null,
            "left": null
          }
        },
        "27bbee347a1242d6bca57aed12d7bbfc": {
          "model_module": "@jupyter-widgets/controls",
          "model_name": "FloatProgressModel",
          "state": {
            "_view_name": "ProgressView",
            "style": "IPY_MODEL_c494a10a4e0345f8b0282fb216bc8471",
            "_dom_classes": [],
            "description": "  0%",
            "_model_name": "FloatProgressModel",
            "bar_style": "",
            "max": 8732,
            "_view_module": "@jupyter-widgets/controls",
            "_model_module_version": "1.5.0",
            "value": 6,
            "_view_count": null,
            "_view_module_version": "1.5.0",
            "orientation": "horizontal",
            "min": 0,
            "description_tooltip": null,
            "_model_module": "@jupyter-widgets/controls",
            "layout": "IPY_MODEL_5e72d450ec7742219bcb146bc5be483e"
          }
        },
        "a1a330aa9f11496c922ab23e970ba5f3": {
          "model_module": "@jupyter-widgets/controls",
          "model_name": "HTMLModel",
          "state": {
            "_view_name": "HTMLView",
            "style": "IPY_MODEL_bbf21cd0506f4ade9f2b729c6f00bda4",
            "_dom_classes": [],
            "description": "",
            "_model_name": "HTMLModel",
            "placeholder": "​",
            "_view_module": "@jupyter-widgets/controls",
            "_model_module_version": "1.5.0",
            "value": " 6/8732 [17:01&lt;409:39:12, 169.01s/it]",
            "_view_count": null,
            "_view_module_version": "1.5.0",
            "description_tooltip": null,
            "_model_module": "@jupyter-widgets/controls",
            "layout": "IPY_MODEL_101ca63d1967474d8ebbd410f42a11a9"
          }
        },
        "c494a10a4e0345f8b0282fb216bc8471": {
          "model_module": "@jupyter-widgets/controls",
          "model_name": "ProgressStyleModel",
          "state": {
            "_view_name": "StyleView",
            "_model_name": "ProgressStyleModel",
            "description_width": "initial",
            "_view_module": "@jupyter-widgets/base",
            "_model_module_version": "1.5.0",
            "_view_count": null,
            "_view_module_version": "1.2.0",
            "bar_color": null,
            "_model_module": "@jupyter-widgets/controls"
          }
        },
        "5e72d450ec7742219bcb146bc5be483e": {
          "model_module": "@jupyter-widgets/base",
          "model_name": "LayoutModel",
          "state": {
            "_view_name": "LayoutView",
            "grid_template_rows": null,
            "right": null,
            "justify_content": null,
            "_view_module": "@jupyter-widgets/base",
            "overflow": null,
            "_model_module_version": "1.2.0",
            "_view_count": null,
            "flex_flow": null,
            "width": null,
            "min_width": null,
            "border": null,
            "align_items": null,
            "bottom": null,
            "_model_module": "@jupyter-widgets/base",
            "top": null,
            "grid_column": null,
            "overflow_y": null,
            "overflow_x": null,
            "grid_auto_flow": null,
            "grid_area": null,
            "grid_template_columns": null,
            "flex": null,
            "_model_name": "LayoutModel",
            "justify_items": null,
            "grid_row": null,
            "max_height": null,
            "align_content": null,
            "visibility": null,
            "align_self": null,
            "height": null,
            "min_height": null,
            "padding": null,
            "grid_auto_rows": null,
            "grid_gap": null,
            "max_width": null,
            "order": null,
            "_view_module_version": "1.2.0",
            "grid_template_areas": null,
            "object_position": null,
            "object_fit": null,
            "grid_auto_columns": null,
            "margin": null,
            "display": null,
            "left": null
          }
        },
        "bbf21cd0506f4ade9f2b729c6f00bda4": {
          "model_module": "@jupyter-widgets/controls",
          "model_name": "DescriptionStyleModel",
          "state": {
            "_view_name": "StyleView",
            "_model_name": "DescriptionStyleModel",
            "description_width": "",
            "_view_module": "@jupyter-widgets/base",
            "_model_module_version": "1.5.0",
            "_view_count": null,
            "_view_module_version": "1.2.0",
            "_model_module": "@jupyter-widgets/controls"
          }
        },
        "101ca63d1967474d8ebbd410f42a11a9": {
          "model_module": "@jupyter-widgets/base",
          "model_name": "LayoutModel",
          "state": {
            "_view_name": "LayoutView",
            "grid_template_rows": null,
            "right": null,
            "justify_content": null,
            "_view_module": "@jupyter-widgets/base",
            "overflow": null,
            "_model_module_version": "1.2.0",
            "_view_count": null,
            "flex_flow": null,
            "width": null,
            "min_width": null,
            "border": null,
            "align_items": null,
            "bottom": null,
            "_model_module": "@jupyter-widgets/base",
            "top": null,
            "grid_column": null,
            "overflow_y": null,
            "overflow_x": null,
            "grid_auto_flow": null,
            "grid_area": null,
            "grid_template_columns": null,
            "flex": null,
            "_model_name": "LayoutModel",
            "justify_items": null,
            "grid_row": null,
            "max_height": null,
            "align_content": null,
            "visibility": null,
            "align_self": null,
            "height": null,
            "min_height": null,
            "padding": null,
            "grid_auto_rows": null,
            "grid_gap": null,
            "max_width": null,
            "order": null,
            "_view_module_version": "1.2.0",
            "grid_template_areas": null,
            "object_position": null,
            "object_fit": null,
            "grid_auto_columns": null,
            "margin": null,
            "display": null,
            "left": null
          }
        }
      }
    }
  },
  "cells": [
    {
      "cell_type": "code",
      "metadata": {
        "id": "Wqepp75kiyjN"
      },
      "source": [
        "!pip install opendatasets --upgrade --quiet"
      ],
      "id": "Wqepp75kiyjN",
      "execution_count": 1,
      "outputs": []
    },
    {
      "cell_type": "code",
      "metadata": {
        "colab": {
          "base_uri": "https://localhost:8080/"
        },
        "id": "Xc1g83_jmcua",
        "outputId": "9f660d77-664d-4a4c-d5cd-c1f67febdd65"
      },
      "source": [
        "!pip install torchaudio"
      ],
      "id": "Xc1g83_jmcua",
      "execution_count": 2,
      "outputs": [
        {
          "output_type": "stream",
          "text": [
            "Collecting torchaudio\n",
            "\u001b[?25l  Downloading https://files.pythonhosted.org/packages/a8/20/eab40caad8f4b97f5e91a5de8ba5ec29115e08fa4c9a808725490b7b4844/torchaudio-0.9.0-cp37-cp37m-manylinux1_x86_64.whl (1.9MB)\n",
            "\r\u001b[K     |▏                               | 10kB 23.6MB/s eta 0:00:01\r\u001b[K     |▍                               | 20kB 16.6MB/s eta 0:00:01\r\u001b[K     |▌                               | 30kB 14.5MB/s eta 0:00:01\r\u001b[K     |▊                               | 40kB 13.5MB/s eta 0:00:01\r\u001b[K     |▉                               | 51kB 7.7MB/s eta 0:00:01\r\u001b[K     |█                               | 61kB 8.1MB/s eta 0:00:01\r\u001b[K     |█▏                              | 71kB 8.6MB/s eta 0:00:01\r\u001b[K     |█▍                              | 81kB 9.6MB/s eta 0:00:01\r\u001b[K     |█▌                              | 92kB 9.4MB/s eta 0:00:01\r\u001b[K     |█▊                              | 102kB 7.7MB/s eta 0:00:01\r\u001b[K     |██                              | 112kB 7.7MB/s eta 0:00:01\r\u001b[K     |██                              | 122kB 7.7MB/s eta 0:00:01\r\u001b[K     |██▎                             | 133kB 7.7MB/s eta 0:00:01\r\u001b[K     |██▍                             | 143kB 7.7MB/s eta 0:00:01\r\u001b[K     |██▋                             | 153kB 7.7MB/s eta 0:00:01\r\u001b[K     |██▊                             | 163kB 7.7MB/s eta 0:00:01\r\u001b[K     |███                             | 174kB 7.7MB/s eta 0:00:01\r\u001b[K     |███                             | 184kB 7.7MB/s eta 0:00:01\r\u001b[K     |███▎                            | 194kB 7.7MB/s eta 0:00:01\r\u001b[K     |███▌                            | 204kB 7.7MB/s eta 0:00:01\r\u001b[K     |███▋                            | 215kB 7.7MB/s eta 0:00:01\r\u001b[K     |███▉                            | 225kB 7.7MB/s eta 0:00:01\r\u001b[K     |████                            | 235kB 7.7MB/s eta 0:00:01\r\u001b[K     |████▏                           | 245kB 7.7MB/s eta 0:00:01\r\u001b[K     |████▎                           | 256kB 7.7MB/s eta 0:00:01\r\u001b[K     |████▌                           | 266kB 7.7MB/s eta 0:00:01\r\u001b[K     |████▋                           | 276kB 7.7MB/s eta 0:00:01\r\u001b[K     |████▉                           | 286kB 7.7MB/s eta 0:00:01\r\u001b[K     |█████                           | 296kB 7.7MB/s eta 0:00:01\r\u001b[K     |█████▏                          | 307kB 7.7MB/s eta 0:00:01\r\u001b[K     |█████▍                          | 317kB 7.7MB/s eta 0:00:01\r\u001b[K     |█████▌                          | 327kB 7.7MB/s eta 0:00:01\r\u001b[K     |█████▊                          | 337kB 7.7MB/s eta 0:00:01\r\u001b[K     |█████▉                          | 348kB 7.7MB/s eta 0:00:01\r\u001b[K     |██████                          | 358kB 7.7MB/s eta 0:00:01\r\u001b[K     |██████▏                         | 368kB 7.7MB/s eta 0:00:01\r\u001b[K     |██████▍                         | 378kB 7.7MB/s eta 0:00:01\r\u001b[K     |██████▋                         | 389kB 7.7MB/s eta 0:00:01\r\u001b[K     |██████▊                         | 399kB 7.7MB/s eta 0:00:01\r\u001b[K     |███████                         | 409kB 7.7MB/s eta 0:00:01\r\u001b[K     |███████                         | 419kB 7.7MB/s eta 0:00:01\r\u001b[K     |███████▎                        | 430kB 7.7MB/s eta 0:00:01\r\u001b[K     |███████▍                        | 440kB 7.7MB/s eta 0:00:01\r\u001b[K     |███████▋                        | 450kB 7.7MB/s eta 0:00:01\r\u001b[K     |███████▊                        | 460kB 7.7MB/s eta 0:00:01\r\u001b[K     |████████                        | 471kB 7.7MB/s eta 0:00:01\r\u001b[K     |████████▏                       | 481kB 7.7MB/s eta 0:00:01\r\u001b[K     |████████▎                       | 491kB 7.7MB/s eta 0:00:01\r\u001b[K     |████████▌                       | 501kB 7.7MB/s eta 0:00:01\r\u001b[K     |████████▋                       | 512kB 7.7MB/s eta 0:00:01\r\u001b[K     |████████▉                       | 522kB 7.7MB/s eta 0:00:01\r\u001b[K     |█████████                       | 532kB 7.7MB/s eta 0:00:01\r\u001b[K     |█████████▏                      | 542kB 7.7MB/s eta 0:00:01\r\u001b[K     |█████████▎                      | 552kB 7.7MB/s eta 0:00:01\r\u001b[K     |█████████▌                      | 563kB 7.7MB/s eta 0:00:01\r\u001b[K     |█████████▊                      | 573kB 7.7MB/s eta 0:00:01\r\u001b[K     |█████████▉                      | 583kB 7.7MB/s eta 0:00:01\r\u001b[K     |██████████                      | 593kB 7.7MB/s eta 0:00:01\r\u001b[K     |██████████▏                     | 604kB 7.7MB/s eta 0:00:01\r\u001b[K     |██████████▍                     | 614kB 7.7MB/s eta 0:00:01\r\u001b[K     |██████████▌                     | 624kB 7.7MB/s eta 0:00:01\r\u001b[K     |██████████▊                     | 634kB 7.7MB/s eta 0:00:01\r\u001b[K     |██████████▉                     | 645kB 7.7MB/s eta 0:00:01\r\u001b[K     |███████████                     | 655kB 7.7MB/s eta 0:00:01\r\u001b[K     |███████████▏                    | 665kB 7.7MB/s eta 0:00:01\r\u001b[K     |███████████▍                    | 675kB 7.7MB/s eta 0:00:01\r\u001b[K     |███████████▋                    | 686kB 7.7MB/s eta 0:00:01\r\u001b[K     |███████████▊                    | 696kB 7.7MB/s eta 0:00:01\r\u001b[K     |████████████                    | 706kB 7.7MB/s eta 0:00:01\r\u001b[K     |████████████                    | 716kB 7.7MB/s eta 0:00:01\r\u001b[K     |████████████▎                   | 727kB 7.7MB/s eta 0:00:01\r\u001b[K     |████████████▍                   | 737kB 7.7MB/s eta 0:00:01\r\u001b[K     |████████████▋                   | 747kB 7.7MB/s eta 0:00:01\r\u001b[K     |████████████▊                   | 757kB 7.7MB/s eta 0:00:01\r\u001b[K     |█████████████                   | 768kB 7.7MB/s eta 0:00:01\r\u001b[K     |█████████████▏                  | 778kB 7.7MB/s eta 0:00:01\r\u001b[K     |█████████████▎                  | 788kB 7.7MB/s eta 0:00:01\r\u001b[K     |█████████████▌                  | 798kB 7.7MB/s eta 0:00:01\r\u001b[K     |█████████████▋                  | 808kB 7.7MB/s eta 0:00:01\r\u001b[K     |█████████████▉                  | 819kB 7.7MB/s eta 0:00:01\r\u001b[K     |██████████████                  | 829kB 7.7MB/s eta 0:00:01\r\u001b[K     |██████████████▏                 | 839kB 7.7MB/s eta 0:00:01\r\u001b[K     |██████████████▎                 | 849kB 7.7MB/s eta 0:00:01\r\u001b[K     |██████████████▌                 | 860kB 7.7MB/s eta 0:00:01\r\u001b[K     |██████████████▊                 | 870kB 7.7MB/s eta 0:00:01\r\u001b[K     |██████████████▉                 | 880kB 7.7MB/s eta 0:00:01\r\u001b[K     |███████████████                 | 890kB 7.7MB/s eta 0:00:01\r\u001b[K     |███████████████▏                | 901kB 7.7MB/s eta 0:00:01\r\u001b[K     |███████████████▍                | 911kB 7.7MB/s eta 0:00:01\r\u001b[K     |███████████████▌                | 921kB 7.7MB/s eta 0:00:01\r\u001b[K     |███████████████▊                | 931kB 7.7MB/s eta 0:00:01\r\u001b[K     |███████████████▉                | 942kB 7.7MB/s eta 0:00:01\r\u001b[K     |████████████████                | 952kB 7.7MB/s eta 0:00:01\r\u001b[K     |████████████████▎               | 962kB 7.7MB/s eta 0:00:01\r\u001b[K     |████████████████▍               | 972kB 7.7MB/s eta 0:00:01\r\u001b[K     |████████████████▋               | 983kB 7.7MB/s eta 0:00:01\r\u001b[K     |████████████████▊               | 993kB 7.7MB/s eta 0:00:01\r\u001b[K     |█████████████████               | 1.0MB 7.7MB/s eta 0:00:01\r\u001b[K     |█████████████████               | 1.0MB 7.7MB/s eta 0:00:01\r\u001b[K     |█████████████████▎              | 1.0MB 7.7MB/s eta 0:00:01\r\u001b[K     |█████████████████▍              | 1.0MB 7.7MB/s eta 0:00:01\r\u001b[K     |█████████████████▋              | 1.0MB 7.7MB/s eta 0:00:01\r\u001b[K     |█████████████████▉              | 1.1MB 7.7MB/s eta 0:00:01\r\u001b[K     |██████████████████              | 1.1MB 7.7MB/s eta 0:00:01\r\u001b[K     |██████████████████▏             | 1.1MB 7.7MB/s eta 0:00:01\r\u001b[K     |██████████████████▎             | 1.1MB 7.7MB/s eta 0:00:01\r\u001b[K     |██████████████████▌             | 1.1MB 7.7MB/s eta 0:00:01\r\u001b[K     |██████████████████▋             | 1.1MB 7.7MB/s eta 0:00:01\r\u001b[K     |██████████████████▉             | 1.1MB 7.7MB/s eta 0:00:01\r\u001b[K     |███████████████████             | 1.1MB 7.7MB/s eta 0:00:01\r\u001b[K     |███████████████████▏            | 1.1MB 7.7MB/s eta 0:00:01\r\u001b[K     |███████████████████▍            | 1.1MB 7.7MB/s eta 0:00:01\r\u001b[K     |███████████████████▌            | 1.2MB 7.7MB/s eta 0:00:01\r\u001b[K     |███████████████████▊            | 1.2MB 7.7MB/s eta 0:00:01\r\u001b[K     |███████████████████▉            | 1.2MB 7.7MB/s eta 0:00:01\r\u001b[K     |████████████████████            | 1.2MB 7.7MB/s eta 0:00:01\r\u001b[K     |████████████████████▏           | 1.2MB 7.7MB/s eta 0:00:01\r\u001b[K     |████████████████████▍           | 1.2MB 7.7MB/s eta 0:00:01\r\u001b[K     |████████████████████▌           | 1.2MB 7.7MB/s eta 0:00:01\r\u001b[K     |████████████████████▊           | 1.2MB 7.7MB/s eta 0:00:01\r\u001b[K     |█████████████████████           | 1.2MB 7.7MB/s eta 0:00:01\r\u001b[K     |█████████████████████           | 1.2MB 7.7MB/s eta 0:00:01\r\u001b[K     |█████████████████████▎          | 1.3MB 7.7MB/s eta 0:00:01\r\u001b[K     |█████████████████████▍          | 1.3MB 7.7MB/s eta 0:00:01\r\u001b[K     |█████████████████████▋          | 1.3MB 7.7MB/s eta 0:00:01\r\u001b[K     |█████████████████████▊          | 1.3MB 7.7MB/s eta 0:00:01\r\u001b[K     |██████████████████████          | 1.3MB 7.7MB/s eta 0:00:01\r\u001b[K     |██████████████████████          | 1.3MB 7.7MB/s eta 0:00:01\r\u001b[K     |██████████████████████▎         | 1.3MB 7.7MB/s eta 0:00:01\r\u001b[K     |██████████████████████▍         | 1.3MB 7.7MB/s eta 0:00:01\r\u001b[K     |██████████████████████▋         | 1.3MB 7.7MB/s eta 0:00:01\r\u001b[K     |██████████████████████▉         | 1.4MB 7.7MB/s eta 0:00:01\r\u001b[K     |███████████████████████         | 1.4MB 7.7MB/s eta 0:00:01\r\u001b[K     |███████████████████████▏        | 1.4MB 7.7MB/s eta 0:00:01\r\u001b[K     |███████████████████████▎        | 1.4MB 7.7MB/s eta 0:00:01\r\u001b[K     |███████████████████████▌        | 1.4MB 7.7MB/s eta 0:00:01\r\u001b[K     |███████████████████████▋        | 1.4MB 7.7MB/s eta 0:00:01\r\u001b[K     |███████████████████████▉        | 1.4MB 7.7MB/s eta 0:00:01\r\u001b[K     |████████████████████████        | 1.4MB 7.7MB/s eta 0:00:01\r\u001b[K     |████████████████████████▏       | 1.4MB 7.7MB/s eta 0:00:01\r\u001b[K     |████████████████████████▍       | 1.4MB 7.7MB/s eta 0:00:01\r\u001b[K     |████████████████████████▌       | 1.5MB 7.7MB/s eta 0:00:01\r\u001b[K     |████████████████████████▊       | 1.5MB 7.7MB/s eta 0:00:01\r\u001b[K     |████████████████████████▉       | 1.5MB 7.7MB/s eta 0:00:01\r\u001b[K     |█████████████████████████       | 1.5MB 7.7MB/s eta 0:00:01\r\u001b[K     |█████████████████████████▏      | 1.5MB 7.7MB/s eta 0:00:01\r\u001b[K     |█████████████████████████▍      | 1.5MB 7.7MB/s eta 0:00:01\r\u001b[K     |█████████████████████████▌      | 1.5MB 7.7MB/s eta 0:00:01\r\u001b[K     |█████████████████████████▊      | 1.5MB 7.7MB/s eta 0:00:01\r\u001b[K     |██████████████████████████      | 1.5MB 7.7MB/s eta 0:00:01\r\u001b[K     |██████████████████████████      | 1.5MB 7.7MB/s eta 0:00:01\r\u001b[K     |██████████████████████████▎     | 1.6MB 7.7MB/s eta 0:00:01\r\u001b[K     |██████████████████████████▍     | 1.6MB 7.7MB/s eta 0:00:01\r\u001b[K     |██████████████████████████▋     | 1.6MB 7.7MB/s eta 0:00:01\r\u001b[K     |██████████████████████████▊     | 1.6MB 7.7MB/s eta 0:00:01\r\u001b[K     |███████████████████████████     | 1.6MB 7.7MB/s eta 0:00:01\r\u001b[K     |███████████████████████████     | 1.6MB 7.7MB/s eta 0:00:01\r\u001b[K     |███████████████████████████▎    | 1.6MB 7.7MB/s eta 0:00:01\r\u001b[K     |███████████████████████████▌    | 1.6MB 7.7MB/s eta 0:00:01\r\u001b[K     |███████████████████████████▋    | 1.6MB 7.7MB/s eta 0:00:01\r\u001b[K     |███████████████████████████▉    | 1.6MB 7.7MB/s eta 0:00:01\r\u001b[K     |████████████████████████████    | 1.7MB 7.7MB/s eta 0:00:01\r\u001b[K     |████████████████████████████▏   | 1.7MB 7.7MB/s eta 0:00:01\r\u001b[K     |████████████████████████████▎   | 1.7MB 7.7MB/s eta 0:00:01\r\u001b[K     |████████████████████████████▌   | 1.7MB 7.7MB/s eta 0:00:01\r\u001b[K     |████████████████████████████▋   | 1.7MB 7.7MB/s eta 0:00:01\r\u001b[K     |████████████████████████████▉   | 1.7MB 7.7MB/s eta 0:00:01\r\u001b[K     |█████████████████████████████   | 1.7MB 7.7MB/s eta 0:00:01\r\u001b[K     |█████████████████████████████▏  | 1.7MB 7.7MB/s eta 0:00:01\r\u001b[K     |█████████████████████████████▍  | 1.7MB 7.7MB/s eta 0:00:01\r\u001b[K     |█████████████████████████████▌  | 1.8MB 7.7MB/s eta 0:00:01\r\u001b[K     |█████████████████████████████▊  | 1.8MB 7.7MB/s eta 0:00:01\r\u001b[K     |█████████████████████████████▉  | 1.8MB 7.7MB/s eta 0:00:01\r\u001b[K     |██████████████████████████████  | 1.8MB 7.7MB/s eta 0:00:01\r\u001b[K     |██████████████████████████████▏ | 1.8MB 7.7MB/s eta 0:00:01\r\u001b[K     |██████████████████████████████▍ | 1.8MB 7.7MB/s eta 0:00:01\r\u001b[K     |██████████████████████████████▋ | 1.8MB 7.7MB/s eta 0:00:01\r\u001b[K     |██████████████████████████████▊ | 1.8MB 7.7MB/s eta 0:00:01\r\u001b[K     |███████████████████████████████ | 1.8MB 7.7MB/s eta 0:00:01\r\u001b[K     |███████████████████████████████ | 1.8MB 7.7MB/s eta 0:00:01\r\u001b[K     |███████████████████████████████▎| 1.9MB 7.7MB/s eta 0:00:01\r\u001b[K     |███████████████████████████████▍| 1.9MB 7.7MB/s eta 0:00:01\r\u001b[K     |███████████████████████████████▋| 1.9MB 7.7MB/s eta 0:00:01\r\u001b[K     |███████████████████████████████▊| 1.9MB 7.7MB/s eta 0:00:01\r\u001b[K     |████████████████████████████████| 1.9MB 7.7MB/s eta 0:00:01\r\u001b[K     |████████████████████████████████| 1.9MB 7.7MB/s \n",
            "\u001b[?25hRequirement already satisfied: torch==1.9.0 in /usr/local/lib/python3.7/dist-packages (from torchaudio) (1.9.0+cu102)\n",
            "Requirement already satisfied: typing-extensions in /usr/local/lib/python3.7/dist-packages (from torch==1.9.0->torchaudio) (3.7.4.3)\n",
            "Installing collected packages: torchaudio\n",
            "Successfully installed torchaudio-0.9.0\n"
          ],
          "name": "stdout"
        }
      ]
    },
    {
      "cell_type": "code",
      "metadata": {
        "colab": {
          "base_uri": "https://localhost:8080/"
        },
        "id": "9duFhPuMi_aP",
        "outputId": "befe7351-c8a5-48c8-e576-74dda01ca3e6"
      },
      "source": [
        "import opendatasets as od\n",
        "dataset_url = \"https://www.kaggle.com/chrisfilo/urbansound8k\"\n",
        "od.download(dataset_url)"
      ],
      "id": "9duFhPuMi_aP",
      "execution_count": 3,
      "outputs": [
        {
          "output_type": "stream",
          "text": [
            "  0%|          | 5.00M/5.61G [00:00<02:57, 34.0MB/s]"
          ],
          "name": "stderr"
        },
        {
          "output_type": "stream",
          "text": [
            "Downloading urbansound8k.zip to ./urbansound8k\n"
          ],
          "name": "stdout"
        },
        {
          "output_type": "stream",
          "text": [
            "100%|██████████| 5.61G/5.61G [01:58<00:00, 50.8MB/s]\n"
          ],
          "name": "stderr"
        },
        {
          "output_type": "stream",
          "text": [
            "\n"
          ],
          "name": "stdout"
        }
      ]
    },
    {
      "cell_type": "code",
      "metadata": {
        "id": "d66b6ad5-acc2-4eee-9c5e-6269bbd8c01c"
      },
      "source": [
        "from urbansounddataset_colab import UrbanSoundDataset\n",
        "\n",
        "import torch\n",
        "import torchaudio\n",
        "import matplotlib.pyplot as plt\n",
        "import torch.nn as nn\n",
        "import torch.nn.functional as F\n",
        "import os\n",
        "from torchsummary import summary\n",
        "from torchvision.utils import make_grid\n",
        "from torch.utils.data import random_split\n",
        "from tqdm import tqdm\n",
        "from torchvision.transforms import ToTensor\n",
        "from torch.utils.data.dataloader import DataLoader\n",
        "import time\n",
        "from tqdm.notebook import tqdm\n",
        "%matplotlib inline"
      ],
      "id": "d66b6ad5-acc2-4eee-9c5e-6269bbd8c01c",
      "execution_count": 4,
      "outputs": []
    },
    {
      "cell_type": "code",
      "metadata": {
        "colab": {
          "base_uri": "https://localhost:8080/",
          "height": 195
        },
        "id": "tB6mi-5HlRtI",
        "outputId": "70c6f0f5-7449-42fe-e2bc-9bf0f4f6e57e"
      },
      "source": [
        "import pandas as pd\n",
        "df = pd.read_csv(\"urbansound8k/UrbanSound8K.csv\")\n",
        "df.head()"
      ],
      "id": "tB6mi-5HlRtI",
      "execution_count": 5,
      "outputs": [
        {
          "output_type": "execute_result",
          "data": {
            "text/html": [
              "<div>\n",
              "<style scoped>\n",
              "    .dataframe tbody tr th:only-of-type {\n",
              "        vertical-align: middle;\n",
              "    }\n",
              "\n",
              "    .dataframe tbody tr th {\n",
              "        vertical-align: top;\n",
              "    }\n",
              "\n",
              "    .dataframe thead th {\n",
              "        text-align: right;\n",
              "    }\n",
              "</style>\n",
              "<table border=\"1\" class=\"dataframe\">\n",
              "  <thead>\n",
              "    <tr style=\"text-align: right;\">\n",
              "      <th></th>\n",
              "      <th>slice_file_name</th>\n",
              "      <th>fsID</th>\n",
              "      <th>start</th>\n",
              "      <th>end</th>\n",
              "      <th>salience</th>\n",
              "      <th>fold</th>\n",
              "      <th>classID</th>\n",
              "      <th>class</th>\n",
              "    </tr>\n",
              "  </thead>\n",
              "  <tbody>\n",
              "    <tr>\n",
              "      <th>0</th>\n",
              "      <td>100032-3-0-0.wav</td>\n",
              "      <td>100032</td>\n",
              "      <td>0.0</td>\n",
              "      <td>0.317551</td>\n",
              "      <td>1</td>\n",
              "      <td>5</td>\n",
              "      <td>3</td>\n",
              "      <td>dog_bark</td>\n",
              "    </tr>\n",
              "    <tr>\n",
              "      <th>1</th>\n",
              "      <td>100263-2-0-117.wav</td>\n",
              "      <td>100263</td>\n",
              "      <td>58.5</td>\n",
              "      <td>62.500000</td>\n",
              "      <td>1</td>\n",
              "      <td>5</td>\n",
              "      <td>2</td>\n",
              "      <td>children_playing</td>\n",
              "    </tr>\n",
              "    <tr>\n",
              "      <th>2</th>\n",
              "      <td>100263-2-0-121.wav</td>\n",
              "      <td>100263</td>\n",
              "      <td>60.5</td>\n",
              "      <td>64.500000</td>\n",
              "      <td>1</td>\n",
              "      <td>5</td>\n",
              "      <td>2</td>\n",
              "      <td>children_playing</td>\n",
              "    </tr>\n",
              "    <tr>\n",
              "      <th>3</th>\n",
              "      <td>100263-2-0-126.wav</td>\n",
              "      <td>100263</td>\n",
              "      <td>63.0</td>\n",
              "      <td>67.000000</td>\n",
              "      <td>1</td>\n",
              "      <td>5</td>\n",
              "      <td>2</td>\n",
              "      <td>children_playing</td>\n",
              "    </tr>\n",
              "    <tr>\n",
              "      <th>4</th>\n",
              "      <td>100263-2-0-137.wav</td>\n",
              "      <td>100263</td>\n",
              "      <td>68.5</td>\n",
              "      <td>72.500000</td>\n",
              "      <td>1</td>\n",
              "      <td>5</td>\n",
              "      <td>2</td>\n",
              "      <td>children_playing</td>\n",
              "    </tr>\n",
              "  </tbody>\n",
              "</table>\n",
              "</div>"
            ],
            "text/plain": [
              "      slice_file_name    fsID  start  ...  fold  classID             class\n",
              "0    100032-3-0-0.wav  100032    0.0  ...     5        3          dog_bark\n",
              "1  100263-2-0-117.wav  100263   58.5  ...     5        2  children_playing\n",
              "2  100263-2-0-121.wav  100263   60.5  ...     5        2  children_playing\n",
              "3  100263-2-0-126.wav  100263   63.0  ...     5        2  children_playing\n",
              "4  100263-2-0-137.wav  100263   68.5  ...     5        2  children_playing\n",
              "\n",
              "[5 rows x 8 columns]"
            ]
          },
          "metadata": {
            "tags": []
          },
          "execution_count": 5
        }
      ]
    },
    {
      "cell_type": "code",
      "metadata": {
        "id": "0f6b0e88-dadc-44ae-8166-d62bc6710a60"
      },
      "source": [
        "ANNOTATIONS_FILE = \"urbansound8k/UrbanSound8K.csv\"\n",
        "AUDIO_DIR = \"urbansound8k\"\n",
        "\n",
        "\n",
        "#ANNOTATIONS_FILE = \"E:\\\\codes\\\\Machine_learning\\\\deep_learning\\\\audio\\\\urban-sound-git\\\\urban-audio-classifier\\\\UrbanSound8K\\\\metadata\\\\UrbanSound8K.csv\"\n",
        "#AUDIO_DIR = \"E:\\\\codes\\\\Machine_learning\\\\deep_learning\\\\audio\\\\urban-sound-git\\\\urban-audio-classifier\\\\UrbanSound8K\\\\audio\"\n",
        "SAMPLE_RATE = 22050\n",
        "NUM_SAMPLES = 22050\n",
        "\n",
        "\n",
        "mel_spectrogram = torchaudio.transforms.MelSpectrogram(\n",
        "            sample_rate=SAMPLE_RATE,\n",
        "            n_fft=1024,\n",
        "            hop_length=512,\n",
        "            n_mels=64\n",
        "        )\n"
      ],
      "id": "0f6b0e88-dadc-44ae-8166-d62bc6710a60",
      "execution_count": 6,
      "outputs": []
    },
    {
      "cell_type": "code",
      "metadata": {
        "id": "835cee34-afed-4bbc-96c0-bcbe923e58b8"
      },
      "source": [
        "usd = UrbanSoundDataset(ANNOTATIONS_FILE,\n",
        "                             AUDIO_DIR,\n",
        "                             mel_spectrogram,\n",
        "                             SAMPLE_RATE,\n",
        "                             NUM_SAMPLES)"
      ],
      "id": "835cee34-afed-4bbc-96c0-bcbe923e58b8",
      "execution_count": 7,
      "outputs": []
    },
    {
      "cell_type": "code",
      "metadata": {
        "colab": {
          "base_uri": "https://localhost:8080/"
        },
        "id": "b8d1ef5f-306f-4d29-a326-8c386869bb74",
        "outputId": "19c4c4a7-bdbd-4e44-e6dc-da8cc14f56c5"
      },
      "source": [
        "signal, label = usd[0]\n",
        "signal.shape , label"
      ],
      "id": "b8d1ef5f-306f-4d29-a326-8c386869bb74",
      "execution_count": 8,
      "outputs": [
        {
          "output_type": "execute_result",
          "data": {
            "text/plain": [
              "(torch.Size([1, 64, 44]), 3)"
            ]
          },
          "metadata": {
            "tags": []
          },
          "execution_count": 8
        }
      ]
    },
    {
      "cell_type": "code",
      "metadata": {
        "colab": {
          "base_uri": "https://localhost:8080/"
        },
        "id": "6cc7c0b4-fd98-486a-8b46-786a7d898440",
        "outputId": "02653e26-9ad6-44e8-f839-de6683a8031b"
      },
      "source": [
        "total_count = len(usd)\n",
        "\n",
        "print(f\"Total data : {total_count}\")\n",
        "\n",
        "train_count = int(0.7*total_count)\n",
        "valid_count = int(0.2*total_count)\n",
        "test_count = total_count-train_count-valid_count\n",
        "\n",
        "train_dataset , valid_dataset , test_dataset = random_split(usd,(train_count,valid_count,test_count))\n",
        "print(\"Train data : \",train_count)\n",
        "print(\"Valid data : \",valid_count)\n",
        "print(\"Test data : \", test_count)"
      ],
      "id": "6cc7c0b4-fd98-486a-8b46-786a7d898440",
      "execution_count": 9,
      "outputs": [
        {
          "output_type": "stream",
          "text": [
            "Total data : 8732\n",
            "Train data :  6112\n",
            "Valid data :  1746\n",
            "Test data :  874\n"
          ],
          "name": "stdout"
        }
      ]
    },
    {
      "cell_type": "code",
      "metadata": {
        "id": "911a0e73-b472-4dd1-ba3c-cb65dde09f5d"
      },
      "source": [
        "\n",
        "def get_default_device():\n",
        "    \n",
        "    if torch.cuda.is_available():\n",
        "        return torch.device(\"cuda\")\n",
        "    else:\n",
        "        return torch.device(\"cpu\")\n",
        "\n",
        "def to_device(data, device):\n",
        "    \n",
        "    if isinstance(data, (list, tuple)):\n",
        "        return [to_device(x , device ) for x in data]\n",
        "    return data.to(device , non_blocking = True)\n",
        "\n",
        "\n",
        "class DeviceDataLoader():\n",
        "    \n",
        "    def __init__(self, dl, device):\n",
        "        \n",
        "        self.dl = dl \n",
        "        self.device = device\n",
        "        \n",
        "    def __iter__(self):\n",
        "        \n",
        "        for b in self.dl: \n",
        "            yield to_device(b, self.device)\n",
        "    \n",
        "    def __len__(self):\n",
        "        return len(self.dl)"
      ],
      "id": "911a0e73-b472-4dd1-ba3c-cb65dde09f5d",
      "execution_count": 10,
      "outputs": []
    },
    {
      "cell_type": "code",
      "metadata": {
        "colab": {
          "base_uri": "https://localhost:8080/"
        },
        "id": "a3d5da2c-3ce8-45f5-9c7d-4e9c23448b64",
        "outputId": "03e7fb13-081e-4333-dfcd-6d265636dd08"
      },
      "source": [
        "device = get_default_device()\n",
        "device"
      ],
      "id": "a3d5da2c-3ce8-45f5-9c7d-4e9c23448b64",
      "execution_count": 11,
      "outputs": [
        {
          "output_type": "execute_result",
          "data": {
            "text/plain": [
              "device(type='cuda')"
            ]
          },
          "metadata": {
            "tags": []
          },
          "execution_count": 11
        }
      ]
    },
    {
      "cell_type": "code",
      "metadata": {
        "id": "d9197db4-cd89-431d-b8f6-0b1223a37a3b"
      },
      "source": [
        "# creating data loader : \n",
        "BATCH_SIZE = 128\n",
        "\n",
        "train_dl = DeviceDataLoader(DataLoader(train_dataset,batch_size = BATCH_SIZE, shuffle = True,num_workers=2,pin_memory=True ),device)\n",
        "valid_dl = DeviceDataLoader(DataLoader(valid_dataset,batch_size = BATCH_SIZE, shuffle = True ,num_workers=2,pin_memory=True), device)\n",
        "test_dl = DeviceDataLoader(DataLoader(test_dataset,batch_size = BATCH_SIZE, shuffle = False,num_workers=2,pin_memory=True),device)"
      ],
      "id": "d9197db4-cd89-431d-b8f6-0b1223a37a3b",
      "execution_count": 12,
      "outputs": []
    },
    {
      "cell_type": "code",
      "metadata": {
        "colab": {
          "base_uri": "https://localhost:8080/"
        },
        "id": "a3be1e12-acc7-440d-96e9-eb4d7028a604",
        "outputId": "3df8ec2c-d92a-4ee9-ca89-42f1ff3c6fd6"
      },
      "source": [
        "for signal, label in train_dl:\n",
        "    print(signal.shape)\n",
        "    break\n",
        "    "
      ],
      "id": "a3be1e12-acc7-440d-96e9-eb4d7028a604",
      "execution_count": 13,
      "outputs": [
        {
          "output_type": "stream",
          "text": [
            "torch.Size([128, 1, 64, 44])\n"
          ],
          "name": "stdout"
        }
      ]
    },
    {
      "cell_type": "code",
      "metadata": {
        "colab": {
          "base_uri": "https://localhost:8080/"
        },
        "id": "3542f83f-6668-4411-952b-d9905819715e",
        "outputId": "8746bc11-a081-4b49-e6d7-5be429dfdca8"
      },
      "source": [
        "for signal, label in valid_dl:\n",
        "    print(signal.shape)\n",
        "    break"
      ],
      "id": "3542f83f-6668-4411-952b-d9905819715e",
      "execution_count": 14,
      "outputs": [
        {
          "output_type": "stream",
          "text": [
            "torch.Size([128, 1, 64, 44])\n"
          ],
          "name": "stdout"
        }
      ]
    },
    {
      "cell_type": "code",
      "metadata": {
        "id": "5d94aa11-c672-4c70-afdd-e8e3d06e2091"
      },
      "source": [
        "class SoundClassificationBase(nn.Module):\n",
        "    \n",
        "    def training_step(self, batch):\n",
        "        signals , labels  = batch\n",
        "        output = self(signals) # generates output\n",
        "        loss = F.cross_entropy(output, labels) # generates loss\n",
        "        return loss\n",
        "    \n",
        "    def validation_step(self, batch):\n",
        "        signals, labels = batch\n",
        "        output = self(signals)  # generates output\n",
        "        loss = F.cross_entropy(output, labels) # generates loss on validation step \n",
        "        acc = accuracy(output, labels) # generates accuracy on validation set \n",
        "        return {\"val_acc\": acc, \"val_loss\": loss}\n",
        "    \n",
        "    def validation_epoch_end(self, output):\n",
        "        batch_loss = [x['val_loss'] for x in output]\n",
        "        epoch_loss = torch.stack(batch_loss).mean() # combine losses\n",
        "        batch_acc = [x['val_acc'] for x in output]\n",
        "        epoch_acc = torch.stack(batch_acc).mean()  # combine accurecies\n",
        "        \n",
        "        return {\"val_acc\": epoch_acc.item(), \"val_loss\": epoch_loss.item()}\n",
        "    \n",
        "    def epoch_end(self, epoch, result):\n",
        "        print(f\"Epoch[{epoch}] , train loss : {result['train_loss']:.3f} ,val loss : {result['val_loss']:.3f} , val accuracy : {result['val_acc']:.3f}\")\n",
        "        \n",
        "def accuracy(output, labels):\n",
        "    _ , preds = torch.max(output, dim = 1)\n",
        "    return torch.tensor(torch.sum(preds == labels).item()/len(preds))"
      ],
      "id": "5d94aa11-c672-4c70-afdd-e8e3d06e2091",
      "execution_count": 15,
      "outputs": []
    },
    {
      "cell_type": "code",
      "metadata": {
        "id": "e6192823-f82c-4b2f-90f6-5d3c406ac4db"
      },
      "source": [
        "class UsdCnnModel(SoundClassificationBase):\n",
        "    \n",
        "    def __init__(self):\n",
        "        \n",
        "        super().__init__()\n",
        "        \n",
        "        self.network = nn.Sequential(\n",
        "            \n",
        "            \n",
        "            # input 1 x 64 x 44\n",
        "            nn.Conv2d(1,16, kernel_size = 3, stride = 1, padding = 2), # input size =16 x 66 x 46\n",
        "            nn.BatchNorm2d(16),\n",
        "            nn.ReLU(),\n",
        "            nn.MaxPool2d(2), # 16 x 33 x 23\n",
        "            \n",
        "            nn.Conv2d(16, 32, kernel_size=3, stride = 1, padding = 2), # 32 x 35 x 25\n",
        "            nn.BatchNorm2d(32),\n",
        "            nn.ReLU(),\n",
        "            nn.MaxPool2d(2), # output 32 x 17 x 12\n",
        "            \n",
        "            \n",
        "            nn.Conv2d(32, 64 , kernel_size=3, stride = 1, padding = 2), # 64 x 19 x 14\n",
        "            nn.BatchNorm2d(64),\n",
        "            nn.ReLU(),\n",
        "            nn.MaxPool2d(2), # 64 x 9 x 7\n",
        "\n",
        "\n",
        "            nn.Conv2d(64 , 128 , kernel_size= 3 , stride = 1 , padding = 2), # 128 x 11 x  9\n",
        "            nn.BatchNorm2d(128),\n",
        "            nn.ReLU(), \n",
        "            nn.MaxPool2d(2), # output 128 x 5 x 4\n",
        "            \n",
        "            \n",
        "            nn.Flatten(),\n",
        "            nn.Linear(128*5*4, 10),\n",
        "            nn.Softmax(dim=1))\n",
        "\n",
        "        \n",
        "    def forward(self, xb):\n",
        "        return self.network(xb)\n",
        "    \n",
        "        \n",
        "        "
      ],
      "id": "e6192823-f82c-4b2f-90f6-5d3c406ac4db",
      "execution_count": 18,
      "outputs": []
    },
    {
      "cell_type": "code",
      "metadata": {
        "colab": {
          "base_uri": "https://localhost:8080/"
        },
        "id": "R94lwbtR6tvf",
        "outputId": "52432dfa-ed5a-4b8b-e970-6c750f510798"
      },
      "source": [
        "for signal, label in train_dl:\n",
        "    print(signal.shape)\n",
        "    break\n",
        "    "
      ],
      "id": "R94lwbtR6tvf",
      "execution_count": 19,
      "outputs": [
        {
          "output_type": "stream",
          "text": [
            "torch.Size([128, 1, 64, 44])\n"
          ],
          "name": "stdout"
        }
      ]
    },
    {
      "cell_type": "code",
      "metadata": {
        "colab": {
          "base_uri": "https://localhost:8080/"
        },
        "id": "dcefda99-1af3-40ba-ba58-7f585c58660f",
        "outputId": "1e541824-a7ef-4071-9968-c02dcc69beb0"
      },
      "source": [
        "model = to_device(UsdCnnModel(),device)\n",
        "print(\"*\"*25+\" Model Summary \"+\"*\"*25)\n",
        "print(summary(model,(1,64,44) ))"
      ],
      "id": "dcefda99-1af3-40ba-ba58-7f585c58660f",
      "execution_count": 20,
      "outputs": [
        {
          "output_type": "stream",
          "text": [
            "************************* Model Summary *************************\n",
            "----------------------------------------------------------------\n",
            "        Layer (type)               Output Shape         Param #\n",
            "================================================================\n",
            "            Conv2d-1           [-1, 16, 66, 46]             160\n",
            "       BatchNorm2d-2           [-1, 16, 66, 46]              32\n",
            "              ReLU-3           [-1, 16, 66, 46]               0\n",
            "         MaxPool2d-4           [-1, 16, 33, 23]               0\n",
            "            Conv2d-5           [-1, 32, 35, 25]           4,640\n",
            "       BatchNorm2d-6           [-1, 32, 35, 25]              64\n",
            "              ReLU-7           [-1, 32, 35, 25]               0\n",
            "         MaxPool2d-8           [-1, 32, 17, 12]               0\n",
            "            Conv2d-9           [-1, 64, 19, 14]          18,496\n",
            "      BatchNorm2d-10           [-1, 64, 19, 14]             128\n",
            "             ReLU-11           [-1, 64, 19, 14]               0\n",
            "        MaxPool2d-12             [-1, 64, 9, 7]               0\n",
            "           Conv2d-13           [-1, 128, 11, 9]          73,856\n",
            "      BatchNorm2d-14           [-1, 128, 11, 9]             256\n",
            "             ReLU-15           [-1, 128, 11, 9]               0\n",
            "        MaxPool2d-16            [-1, 128, 5, 4]               0\n",
            "          Flatten-17                 [-1, 2560]               0\n",
            "           Linear-18                   [-1, 10]          25,610\n",
            "          Softmax-19                   [-1, 10]               0\n",
            "================================================================\n",
            "Total params: 123,242\n",
            "Trainable params: 123,242\n",
            "Non-trainable params: 0\n",
            "----------------------------------------------------------------\n",
            "Input size (MB): 0.01\n",
            "Forward/backward pass size (MB): 2.64\n",
            "Params size (MB): 0.47\n",
            "Estimated Total Size (MB): 3.13\n",
            "----------------------------------------------------------------\n",
            "None\n"
          ],
          "name": "stdout"
        },
        {
          "output_type": "stream",
          "text": [
            "/usr/local/lib/python3.7/dist-packages/torch/nn/functional.py:718: UserWarning: Named tensors and all their associated APIs are an experimental feature and subject to change. Please do not use them for anything important until they are released as stable. (Triggered internally at  /pytorch/c10/core/TensorImpl.h:1156.)\n",
            "  return torch.max_pool2d(input, kernel_size, stride, padding, dilation, ceil_mode)\n"
          ],
          "name": "stderr"
        }
      ]
    },
    {
      "cell_type": "code",
      "metadata": {
        "colab": {
          "base_uri": "https://localhost:8080/"
        },
        "id": "b0swkupPo7Fd",
        "outputId": "bd32d71b-c474-4dbc-c8ee-6ea342b650e5"
      },
      "source": [
        "from google.colab import drive\n",
        "drive.mount('/content/drive')\n"
      ],
      "id": "b0swkupPo7Fd",
      "execution_count": 21,
      "outputs": [
        {
          "output_type": "stream",
          "text": [
            "Mounted at /content/drive\n"
          ],
          "name": "stdout"
        }
      ]
    },
    {
      "cell_type": "code",
      "metadata": {
        "id": "3Ht7T4bmpgJR"
      },
      "source": [
        "@torch.no_grad()\n",
        "def evalute(model,val_loader):\n",
        "    model.eval()\n",
        "    \n",
        "    outputs = [model.validation_step(batch) for batch in val_loader]\n",
        "    return model.validation_epoch_end(outputs)\n",
        "\n",
        "\n",
        "\n",
        "def fit(start_epoch, epochs, lr, model, train_loader, valid_loader , optimizer):\n",
        "    \n",
        "    history = []\n",
        "    \n",
        "    start = time.time()\n",
        "    for epoch in tqdm(range(start_epoch,epochs)):\n",
        "        \n",
        "        # training phase \n",
        "        model.train()\n",
        "        train_losses = []\n",
        "        \n",
        "        for batch in train_loader: \n",
        "            loss = model.training_step(batch)\n",
        "            train_losses.append(loss)\n",
        "            loss.backward()\n",
        "            \n",
        "            optimizer.step()\n",
        "            \n",
        "            optimizer.zero_grad()\n",
        "            \n",
        "        \n",
        "        # validation phase \n",
        "        \n",
        "        result = evalute(model, valid_loader)\n",
        "        result[\"train_loss\"]  = torch.stack(train_losses).mean().item()\n",
        "        model.epoch_end(epoch, result)\n",
        "        history.append(result)\n",
        "        \n",
        "        # saving the model\n",
        "        \n",
        "        #saving model in drive\n",
        "        model_save_name = 'urban_sound_classification_mel_spec_cnn_softmax.pt'\n",
        "        saving_path = F\"/content/drive/MyDrive/DL_models/UrbanSound8k/{model_save_name}\" \n",
        "        #saving_path = F\"data/{model_save_name}\" \n",
        "\n",
        "        \n",
        "        torch.save({\n",
        "                    'epoch': epoch+1,\n",
        "                    'model_state_dict': model.state_dict(),\n",
        "                    'optimizer_state_dict':optimizer.state_dict(),\n",
        "\n",
        "\n",
        "                    }, saving_path)\n",
        "        end = time.time()\n",
        "        print((end-start)/60,' Minutes')\n",
        "    \n",
        "    return history"
      ],
      "id": "3Ht7T4bmpgJR",
      "execution_count": 24,
      "outputs": []
    },
    {
      "cell_type": "code",
      "metadata": {
        "colab": {
          "base_uri": "https://localhost:8080/"
        },
        "id": "8e07099d-0db8-4d0d-b7d3-6780e0041d8b",
        "outputId": "e94e3bba-ab59-4ef9-e02d-cd3665dc1e70"
      },
      "source": [
        "evalute(model, valid_dl)"
      ],
      "id": "8e07099d-0db8-4d0d-b7d3-6780e0041d8b",
      "execution_count": 23,
      "outputs": [
        {
          "output_type": "execute_result",
          "data": {
            "text/plain": [
              "{'val_acc': 0.11529562622308731, 'val_loss': 2.3253517150878906}"
            ]
          },
          "metadata": {
            "tags": []
          },
          "execution_count": 23
        }
      ]
    },
    {
      "cell_type": "code",
      "metadata": {
        "id": "d298ae78-a06c-499f-a4be-aa254647e0ab"
      },
      "source": [
        "start_epoch = 0\n",
        "\n",
        "# checkpoint = torch.load(\"/content/drive/MyDrive/DL_models/UrbanSound8k/urban_sound_classification_mel_spec_cnn_softmax.pt\")\n",
        "# model.load_state_dict(checkpoint['model_state_dict'])\n",
        "# optimizer.load_state_dict(checkpoint['optimizer_state_dict'])\n",
        "# start_epoch = checkpoint['epoch']"
      ],
      "id": "d298ae78-a06c-499f-a4be-aa254647e0ab",
      "execution_count": 25,
      "outputs": []
    },
    {
      "cell_type": "code",
      "metadata": {
        "id": "RF_0jyMQqbhO"
      },
      "source": [
        "lr = 0.001\n",
        "total_epochs = 50\n",
        "optimizer = torch.optim.Adam(model.parameters(),lr = lr)"
      ],
      "id": "RF_0jyMQqbhO",
      "execution_count": 26,
      "outputs": []
    },
    {
      "cell_type": "code",
      "metadata": {
        "colab": {
          "base_uri": "https://localhost:8080/",
          "height": 250,
          "referenced_widgets": [
            "15eb6bf35d9c4cd5b2ba54de32838126",
            "a2b296da5f0941a1a72dc08123987255",
            "27bbee347a1242d6bca57aed12d7bbfc",
            "a1a330aa9f11496c922ab23e970ba5f3",
            "c494a10a4e0345f8b0282fb216bc8471",
            "5e72d450ec7742219bcb146bc5be483e",
            "bbf21cd0506f4ade9f2b729c6f00bda4",
            "101ca63d1967474d8ebbd410f42a11a9"
          ]
        },
        "id": "TQhLN_Xqqhpt",
        "outputId": "32409e9f-7944-4350-c29c-37da74afb6fc"
      },
      "source": [
        "history = fit(start_epoch,total_count,lr,model,train_dl,valid_dl,optimizer)"
      ],
      "id": "TQhLN_Xqqhpt",
      "execution_count": null,
      "outputs": [
        {
          "output_type": "display_data",
          "data": {
            "application/vnd.jupyter.widget-view+json": {
              "model_id": "15eb6bf35d9c4cd5b2ba54de32838126",
              "version_minor": 0,
              "version_major": 2
            },
            "text/plain": [
              "HBox(children=(FloatProgress(value=0.0, max=8732.0), HTML(value='')))"
            ]
          },
          "metadata": {
            "tags": []
          }
        },
        {
          "output_type": "stream",
          "text": [
            "Epoch[0] , train loss : 2.187 ,val loss : 2.174 , val accuracy : 0.279\n",
            "2.827161169052124  Minutes\n",
            "Epoch[1] , train loss : 2.052 ,val loss : 2.077 , val accuracy : 0.353\n",
            "5.723305193583171  Minutes\n",
            "Epoch[2] , train loss : 2.000 ,val loss : 2.138 , val accuracy : 0.310\n",
            "8.54203514655431  Minutes\n",
            "Epoch[3] , train loss : 1.963 ,val loss : 2.018 , val accuracy : 0.449\n",
            "11.482556649049123  Minutes\n",
            "Epoch[4] , train loss : 1.942 ,val loss : 1.976 , val accuracy : 0.491\n",
            "14.29690396785736  Minutes\n",
            "Epoch[5] , train loss : 1.936 ,val loss : 2.018 , val accuracy : 0.443\n",
            "17.029244927565255  Minutes\n"
          ],
          "name": "stdout"
        }
      ]
    },
    {
      "cell_type": "code",
      "metadata": {
        "id": "1JelGhOBqoSW"
      },
      "source": [
        ""
      ],
      "id": "1JelGhOBqoSW",
      "execution_count": null,
      "outputs": []
    }
  ]
}